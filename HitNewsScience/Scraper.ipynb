{
 "cells": [
  {
   "cell_type": "code",
   "execution_count": 5,
   "metadata": {
    "ExecuteTime": {
     "end_time": "2017-10-17T14:37:18.647652Z",
     "start_time": "2017-10-17T14:37:18.635937Z"
    }
   },
   "outputs": [],
   "source": [
    "from bs4 import BeautifulSoup\n",
    "from requests import get\n",
    "import pandas as pd, matplotlib.pyplot as plt\n",
    "from tqdm import tqdm\n",
    "%matplotlib inline"
   ]
  },
  {
   "cell_type": "code",
   "execution_count": 6,
   "metadata": {
    "ExecuteTime": {
     "end_time": "2017-09-21T16:58:41.692328Z",
     "start_time": "2017-09-21T16:58:41.685689Z"
    }
   },
   "outputs": [],
   "source": [
    "# HREF SCRAPER\n",
    "def get_urls(n_pages, section):\n",
    "  urls = []\n",
    "  for page in tqdm(range(n_pages+1)):\n",
    "    try:\n",
    "      soup = BeautifulSoup(get(f'https://www.dailytexanonline.com/section/{section}?page={page}').text,'lxml')\n",
    "      for i in soup.findAll('h2', {'class':'story-title'}):\n",
    "        urls.append(i.find('a')['href'])\n",
    "    except AttributeError:\n",
    "      print(page)\n",
    "  return urls"
   ]
  },
  {
   "cell_type": "code",
   "execution_count": 7,
   "metadata": {
    "ExecuteTime": {
     "end_time": "2017-09-21T17:39:40.521615Z",
     "start_time": "2017-09-21T17:39:40.508343Z"
    }
   },
   "outputs": [],
   "source": [
    "# ARTICLE SCRAPER\n",
    "def get_articles(urls):\n",
    "  articles = {}\n",
    "  for h in tqdm(urls):\n",
    "    try:\n",
    "      soup = BeautifulSoup(get('https://www.dailytexanonline.com'+h).text,'lxml')\n",
    "      auth = soup.find('div',{'id':'author-name'})\n",
    "      articles[h] = dict(\n",
    "        text = soup.find('div',{'id':'article-body'}).text,\n",
    "        author = auth.text,\n",
    "        author_link = auth.find('a')['href'],\n",
    "        date = soup.find('time',{'id':'article-published'}).text,\n",
    "        title = soup.find('h1',{'id':'page-title'}).text,\n",
    "      )\n",
    "    except:\n",
    "      print(h)\n",
    "  articles = pd.DataFrame.from_dict(articles, orient='index')\n",
    "  articles.date = pd.to_datetime(articles.date.str.lstrip('Published on '), format='%B %d, %Y at %I:%M %p')\n",
    "  articles.text = articles.text.str.replace('\\\\xa0',' ').str.replace('\\\\n',' ')\n",
    "  articles.author = articles.author.str.lstrip('By ')\n",
    "  articles.title = articles.title.str.strip()\n",
    "  return articles"
   ]
  },
  {
   "cell_type": "code",
   "execution_count": 8,
   "metadata": {
    "ExecuteTime": {
     "end_time": "2017-09-21T18:00:00.795235Z",
     "start_time": "2017-09-21T17:39:40.820370Z"
    },
    "scrolled": true
   },
   "outputs": [
    {
     "name": "stderr",
     "output_type": "stream",
     "text": [
      "100%|██████████| 396/396 [04:46<00:00,  1.38it/s]\n",
      "  2%|▏         | 79/3960 [00:37<30:57,  2.09it/s]"
     ]
    },
    {
     "name": "stdout",
     "output_type": "stream",
     "text": [
      "/2018/02/05/you-ask-we-answer-how-to-talk-to-guys\n"
     ]
    },
    {
     "name": "stderr",
     "output_type": "stream",
     "text": [
      " 28%|██▊       | 1112/3960 [09:32<24:26,  1.94it/s]"
     ]
    },
    {
     "name": "stdout",
     "output_type": "stream",
     "text": [
      "/2016/08/01/fifty-years-later-1966-firing-lines\n"
     ]
    },
    {
     "name": "stderr",
     "output_type": "stream",
     "text": [
      " 37%|███▋      | 1446/3960 [12:24<21:34,  1.94it/s]"
     ]
    },
    {
     "name": "stdout",
     "output_type": "stream",
     "text": [
      "/2016/01/25/interfaith-dialogue-necessary-to-make-campus-a-safe-space\n"
     ]
    },
    {
     "name": "stderr",
     "output_type": "stream",
     "text": [
      " 40%|████      | 1589/3960 [13:39<20:22,  1.94it/s]"
     ]
    },
    {
     "name": "stdout",
     "output_type": "stream",
     "text": [
      "/2015/10/18/hispanic-heritage-month-building-a-brighter-future\n"
     ]
    },
    {
     "name": "stderr",
     "output_type": "stream",
     "text": [
      " 41%|████      | 1622/3960 [13:55<20:04,  1.94it/s]"
     ]
    },
    {
     "name": "stdout",
     "output_type": "stream",
     "text": [
      "/2015/10/07/campus-carry-will-not-protect-women\n"
     ]
    },
    {
     "name": "stderr",
     "output_type": "stream",
     "text": [
      " 41%|████      | 1623/3960 [13:56<20:04,  1.94it/s]"
     ]
    },
    {
     "name": "stdout",
     "output_type": "stream",
     "text": [
      "/2015/10/07/campus-carry-poses-risks-to-safety-educational-freedom\n"
     ]
    },
    {
     "name": "stderr",
     "output_type": "stream",
     "text": [
      " 41%|████      | 1624/3960 [13:56<20:03,  1.94it/s]"
     ]
    },
    {
     "name": "stdout",
     "output_type": "stream",
     "text": [
      "/2015/10/07/no-reason-to-fear-campus-carry-law-abiding-gunowners\n"
     ]
    },
    {
     "name": "stderr",
     "output_type": "stream",
     "text": [
      " 42%|████▏     | 1645/3960 [14:08<19:54,  1.94it/s]"
     ]
    },
    {
     "name": "stdout",
     "output_type": "stream",
     "text": [
      "/2015/09/30/forum-fostering-sense-of-home-for-refugees\n"
     ]
    },
    {
     "name": "stderr",
     "output_type": "stream",
     "text": [
      " 42%|████▏     | 1646/3960 [14:09<19:54,  1.94it/s]"
     ]
    },
    {
     "name": "stdout",
     "output_type": "stream",
     "text": [
      "/2015/09/30/forum-stop-calling-it-a-refugee-crisis\n"
     ]
    },
    {
     "name": "stderr",
     "output_type": "stream",
     "text": [
      " 42%|████▏     | 1647/3960 [14:09<19:53,  1.94it/s]"
     ]
    },
    {
     "name": "stdout",
     "output_type": "stream",
     "text": [
      "/2015/09/30/forum-easing-learning-tensions-through-language-tutoring-programs\n"
     ]
    },
    {
     "name": "stderr",
     "output_type": "stream",
     "text": [
      " 42%|████▏     | 1660/3960 [14:16<19:46,  1.94it/s]"
     ]
    },
    {
     "name": "stdout",
     "output_type": "stream",
     "text": [
      "/2015/09/27/speedway-of-golden-bricks\n"
     ]
    },
    {
     "name": "stderr",
     "output_type": "stream",
     "text": [
      " 42%|████▏     | 1667/3960 [14:19<19:42,  1.94it/s]"
     ]
    },
    {
     "name": "stdout",
     "output_type": "stream",
     "text": [
      "/2015/09/23/forum-sure-walk-taking-steps-forward\n"
     ]
    },
    {
     "name": "stderr",
     "output_type": "stream",
     "text": [
      " 42%|████▏     | 1668/3960 [14:20<19:42,  1.94it/s]"
     ]
    },
    {
     "name": "stdout",
     "output_type": "stream",
     "text": [
      "/2015/09/23/forum-campus-safety-is-a-community-responsibility\n"
     ]
    },
    {
     "name": "stderr",
     "output_type": "stream",
     "text": [
      " 42%|████▏     | 1670/3960 [14:21<19:41,  1.94it/s]"
     ]
    },
    {
     "name": "stdout",
     "output_type": "stream",
     "text": [
      "/2015/09/23/forum-protecting-those-who-will-change-the-world\n"
     ]
    },
    {
     "name": "stderr",
     "output_type": "stream",
     "text": [
      " 43%|████▎     | 1688/3960 [14:30<19:32,  1.94it/s]"
     ]
    },
    {
     "name": "stdout",
     "output_type": "stream",
     "text": [
      "/2015/09/17/forum-protect-student-voices-in-theatre-and-the-arts\n"
     ]
    },
    {
     "name": "stderr",
     "output_type": "stream",
     "text": [
      " 43%|████▎     | 1690/3960 [14:31<19:31,  1.94it/s]"
     ]
    },
    {
     "name": "stdout",
     "output_type": "stream",
     "text": [
      "/2015/09/17/forum-the-value-of-performance-work-reaches-far\n"
     ]
    },
    {
     "name": "stderr",
     "output_type": "stream",
     "text": [
      " 43%|████▎     | 1692/3960 [14:32<19:29,  1.94it/s]"
     ]
    },
    {
     "name": "stdout",
     "output_type": "stream",
     "text": [
      "/2015/09/17/forum-student-theatre-fosters-community-collaboration-and-growth\n"
     ]
    },
    {
     "name": "stderr",
     "output_type": "stream",
     "text": [
      " 43%|████▎     | 1693/3960 [14:33<19:29,  1.94it/s]"
     ]
    },
    {
     "name": "stdout",
     "output_type": "stream",
     "text": [
      "/2015/09/17/forum-every-ounce-of-effort-is-worth-it\n"
     ]
    },
    {
     "name": "stderr",
     "output_type": "stream",
     "text": [
      " 43%|████▎     | 1707/3960 [14:40<19:21,  1.94it/s]"
     ]
    },
    {
     "name": "stdout",
     "output_type": "stream",
     "text": [
      "/2015/09/11/students-must-engage-with-alcohol-education-programs-while-institutions-must-constantly\n"
     ]
    },
    {
     "name": "stderr",
     "output_type": "stream",
     "text": [
      " 43%|████▎     | 1711/3960 [14:42<19:20,  1.94it/s]"
     ]
    },
    {
     "name": "stdout",
     "output_type": "stream",
     "text": [
      "/2015/09/11/conscious-spending-protects-fair-labor-and-ethics\n"
     ]
    },
    {
     "name": "stderr",
     "output_type": "stream",
     "text": [
      " 43%|████▎     | 1714/3960 [14:44<19:18,  1.94it/s]"
     ]
    },
    {
     "name": "stdout",
     "output_type": "stream",
     "text": [
      "/2015/09/10/forum-those-who-came-before-me-the-legacies-within-me\n"
     ]
    },
    {
     "name": "stderr",
     "output_type": "stream",
     "text": [
      " 43%|████▎     | 1715/3960 [14:44<19:18,  1.94it/s]"
     ]
    },
    {
     "name": "stdout",
     "output_type": "stream",
     "text": [
      "/2015/09/10/forum-connect-with-campus-resources\n"
     ]
    },
    {
     "name": "stderr",
     "output_type": "stream",
     "text": [
      " 43%|████▎     | 1717/3960 [14:46<19:17,  1.94it/s]"
     ]
    },
    {
     "name": "stdout",
     "output_type": "stream",
     "text": [
      "/2015/09/09/forum-be-mindful-of-issues-find-ways-to-be-supportive\n"
     ]
    },
    {
     "name": "stderr",
     "output_type": "stream",
     "text": [
      " 43%|████▎     | 1718/3960 [14:46<19:16,  1.94it/s]"
     ]
    },
    {
     "name": "stdout",
     "output_type": "stream",
     "text": [
      "/2015/09/09/forum-change-is-happening\n"
     ]
    },
    {
     "name": "stderr",
     "output_type": "stream",
     "text": [
      " 43%|████▎     | 1720/3960 [14:47<19:15,  1.94it/s]"
     ]
    },
    {
     "name": "stdout",
     "output_type": "stream",
     "text": [
      "/2015/09/09/the-ugly-side-of-the-beautiful-game\n"
     ]
    },
    {
     "name": "stderr",
     "output_type": "stream",
     "text": [
      " 43%|████▎     | 1721/3960 [14:47<19:15,  1.94it/s]"
     ]
    },
    {
     "name": "stdout",
     "output_type": "stream",
     "text": [
      "/2015/09/09/the-perks-of-being-an-angry-black-woman\n"
     ]
    },
    {
     "name": "stderr",
     "output_type": "stream",
     "text": [
      " 44%|████▎     | 1724/3960 [14:50<19:14,  1.94it/s]"
     ]
    },
    {
     "name": "stdout",
     "output_type": "stream",
     "text": [
      "/2015/09/09/google-self-drive-technology-is-the-future-for-ut-commuters\n"
     ]
    },
    {
     "name": "stderr",
     "output_type": "stream",
     "text": [
      " 44%|████▎     | 1727/3960 [14:51<19:12,  1.94it/s]"
     ]
    },
    {
     "name": "stdout",
     "output_type": "stream",
     "text": [
      "/2015/09/07/austin-is-not-silicon-valley-%E2%80%94-but-with-time-it-could-be\n"
     ]
    },
    {
     "name": "stderr",
     "output_type": "stream",
     "text": [
      " 44%|████▍     | 1739/3960 [14:58<19:08,  1.93it/s]"
     ]
    },
    {
     "name": "stdout",
     "output_type": "stream",
     "text": [
      "/2015/09/02/students-should-find-ways-to-help-the-homeless-community-while-exercising-caution\n"
     ]
    },
    {
     "name": "stderr",
     "output_type": "stream",
     "text": [
      " 45%|████▍     | 1769/3960 [15:15<18:53,  1.93it/s]"
     ]
    },
    {
     "name": "stdout",
     "output_type": "stream",
     "text": [
      "/2015/08/07/letter-to-the-editor-statues-must-be-taken-into-historical-context-task-force-must\n"
     ]
    },
    {
     "name": "stderr",
     "output_type": "stream",
     "text": [
      " 45%|████▌     | 1798/3960 [15:31<18:39,  1.93it/s]"
     ]
    },
    {
     "name": "stdout",
     "output_type": "stream",
     "text": [
      "/2015/07/10/letter-to-the-editor-confederate-statues-an-affront-to-inclusivity-tolerance-and\n"
     ]
    },
    {
     "name": "stderr",
     "output_type": "stream",
     "text": [
      " 46%|████▌     | 1802/3960 [15:34<18:39,  1.93it/s]"
     ]
    },
    {
     "name": "stdout",
     "output_type": "stream",
     "text": [
      "/2015/07/08/other-states-research-demonstrate-safety-of-campus-carry-despite-detractors-doubts\n"
     ]
    },
    {
     "name": "stderr",
     "output_type": "stream",
     "text": [
      " 46%|████▌     | 1815/3960 [15:41<18:32,  1.93it/s]"
     ]
    },
    {
     "name": "stdout",
     "output_type": "stream",
     "text": [
      "/2015/06/26/a-need-for-cultural-education\n"
     ]
    },
    {
     "name": "stderr",
     "output_type": "stream",
     "text": [
      " 47%|████▋     | 1871/3960 [16:10<18:03,  1.93it/s]"
     ]
    },
    {
     "name": "stdout",
     "output_type": "stream",
     "text": [
      "/2015/05/03/texan-article-gives-attention-to-volunteers-of-austin-state-supported-living-center\n"
     ]
    },
    {
     "name": "stderr",
     "output_type": "stream",
     "text": [
      " 48%|████▊     | 1890/3960 [16:19<17:52,  1.93it/s]"
     ]
    },
    {
     "name": "stdout",
     "output_type": "stream",
     "text": [
      "/2015/04/26/dont-steal-uberlyft-rides-at-night\n"
     ]
    },
    {
     "name": "stderr",
     "output_type": "stream",
     "text": [
      " 48%|████▊     | 1894/3960 [16:21<17:50,  1.93it/s]"
     ]
    },
    {
     "name": "stdout",
     "output_type": "stream",
     "text": [
      "/2015/04/23/congratulations-to-texas-quidditch\n"
     ]
    },
    {
     "name": "stderr",
     "output_type": "stream",
     "text": [
      " 48%|████▊     | 1895/3960 [16:21<17:50,  1.93it/s]"
     ]
    },
    {
     "name": "stdout",
     "output_type": "stream",
     "text": [
      "/2015/04/22/spiderhouse-mural-concerns-reader\n"
     ]
    },
    {
     "name": "stderr",
     "output_type": "stream",
     "text": [
      " 48%|████▊     | 1902/3960 [16:25<17:46,  1.93it/s]"
     ]
    },
    {
     "name": "stdout",
     "output_type": "stream",
     "text": [
      "/2015/04/20/sg-student-body-should-debate-boycotts\n"
     ]
    },
    {
     "name": "stderr",
     "output_type": "stream",
     "text": [
      " 48%|████▊     | 1907/3960 [16:28<17:44,  1.93it/s]"
     ]
    },
    {
     "name": "stdout",
     "output_type": "stream",
     "text": [
      "/2015/04/16/student-leader-avoids-issue-of-palestinian-human-rights\n"
     ]
    },
    {
     "name": "stderr",
     "output_type": "stream",
     "text": [
      " 48%|████▊     | 1914/3960 [16:31<17:40,  1.93it/s]"
     ]
    },
    {
     "name": "stdout",
     "output_type": "stream",
     "text": [
      "/2015/04/15/bds-legislation-would-isolate-uts-jewish-community\n"
     ]
    },
    {
     "name": "stderr",
     "output_type": "stream",
     "text": [
      " 49%|████▊     | 1926/3960 [16:37<17:33,  1.93it/s]"
     ]
    },
    {
     "name": "stdout",
     "output_type": "stream",
     "text": [
      "/2015/04/09/affirmative-action-uts-admissions-system-are-righting-past-wrongs\n"
     ]
    },
    {
     "name": "stderr",
     "output_type": "stream",
     "text": [
      " 49%|████▊     | 1929/3960 [16:39<17:32,  1.93it/s]"
     ]
    },
    {
     "name": "stdout",
     "output_type": "stream",
     "text": [
      "/2015/04/08/university-ranking-is-oversimplified\n"
     ]
    },
    {
     "name": "stderr",
     "output_type": "stream",
     "text": [
      " 49%|████▉     | 1933/3960 [16:41<17:30,  1.93it/s]"
     ]
    },
    {
     "name": "stdout",
     "output_type": "stream",
     "text": [
      "/2015/04/07/recent-attack-on-affirmative-action-top-10-percent-rule-misguided\n"
     ]
    },
    {
     "name": "stderr",
     "output_type": "stream",
     "text": [
      " 49%|████▉     | 1940/3960 [16:45<17:26,  1.93it/s]"
     ]
    },
    {
     "name": "stdout",
     "output_type": "stream",
     "text": [
      "/2015/04/02/texas-tennis-does-its-job-university-responsible-for-lack-of-courts\n"
     ]
    },
    {
     "name": "stderr",
     "output_type": "stream",
     "text": [
      " 49%|████▉     | 1941/3960 [16:45<17:25,  1.93it/s]"
     ]
    },
    {
     "name": "stdout",
     "output_type": "stream",
     "text": [
      "/2015/04/02/black-and-latino-studies-students-left-out-of-building-name-change\n"
     ]
    },
    {
     "name": "stderr",
     "output_type": "stream",
     "text": [
      " 49%|████▉     | 1947/3960 [16:48<17:22,  1.93it/s]"
     ]
    },
    {
     "name": "stdout",
     "output_type": "stream",
     "text": [
      "/2015/03/31/texas-tennis-fan-got-it-right\n"
     ]
    },
    {
     "name": "stderr",
     "output_type": "stream",
     "text": [
      " 49%|████▉     | 1950/3960 [16:50<17:21,  1.93it/s]"
     ]
    },
    {
     "name": "stdout",
     "output_type": "stream",
     "text": [
      "/2015/03/30/texas-tennis-deserves-proper-home\n"
     ]
    },
    {
     "name": "stderr",
     "output_type": "stream",
     "text": [
      " 50%|█████     | 1991/3960 [17:10<16:59,  1.93it/s]"
     ]
    },
    {
     "name": "stdout",
     "output_type": "stream",
     "text": [
      "/2015/03/05/fiji-party-exemplifies-limited-views-of-oppression\n"
     ]
    },
    {
     "name": "stderr",
     "output_type": "stream",
     "text": [
      " 50%|█████     | 1994/3960 [17:12<16:57,  1.93it/s]"
     ]
    },
    {
     "name": "stdout",
     "output_type": "stream",
     "text": [
      "/2015/03/03/kroll-report-means-prospective-ut-students-arent-getting-a-fair-chance\n"
     ]
    },
    {
     "name": "stderr",
     "output_type": "stream",
     "text": [
      " 52%|█████▏    | 2043/3960 [17:37<16:31,  1.93it/s]"
     ]
    },
    {
     "name": "stdout",
     "output_type": "stream",
     "text": [
      "/2015/02/11/reader-warns-chick-fil-a-customers-you-could-be-overpaying-for-bagels\n"
     ]
    },
    {
     "name": "stderr",
     "output_type": "stream",
     "text": [
      " 56%|█████▌    | 2201/3960 [18:57<15:09,  1.93it/s]"
     ]
    },
    {
     "name": "stdout",
     "output_type": "stream",
     "text": [
      "/2014/10/24/despite-social-media-concerns-platforms-can-still-enrich-lives\n"
     ]
    },
    {
     "name": "stderr",
     "output_type": "stream",
     "text": [
      " 56%|█████▌    | 2210/3960 [19:02<15:04,  1.93it/s]"
     ]
    },
    {
     "name": "stdout",
     "output_type": "stream",
     "text": [
      "/2014/10/22/district-9-endorsement-overlooks-kathie-tovo\n"
     ]
    },
    {
     "name": "stderr",
     "output_type": "stream",
     "text": [
      " 56%|█████▋    | 2229/3960 [19:12<14:55,  1.93it/s]"
     ]
    },
    {
     "name": "stdout",
     "output_type": "stream",
     "text": [
      "/2014/10/13/world-mental-health-day-helps-bring-more-attention-to-mental-illness\n"
     ]
    },
    {
     "name": "stderr",
     "output_type": "stream",
     "text": [
      " 56%|█████▋    | 2230/3960 [19:13<14:54,  1.93it/s]"
     ]
    },
    {
     "name": "stdout",
     "output_type": "stream",
     "text": [
      "/2014/10/13/dont-mischaracterize-cola\n"
     ]
    },
    {
     "name": "stderr",
     "output_type": "stream",
     "text": [
      " 57%|█████▋    | 2239/3960 [19:17<14:49,  1.93it/s]"
     ]
    },
    {
     "name": "stdout",
     "output_type": "stream",
     "text": [
      "/2014/10/08/austin-rail-in-context-of-city%E2%80%99s-growth\n"
     ]
    },
    {
     "name": "stderr",
     "output_type": "stream",
     "text": [
      " 57%|█████▋    | 2243/3960 [19:19<14:47,  1.93it/s]"
     ]
    },
    {
     "name": "stdout",
     "output_type": "stream",
     "text": [
      "/2014/10/07/mens-athletics-director-says-athletic-ticket-sales-increased-from-last-year\n"
     ]
    },
    {
     "name": "stderr",
     "output_type": "stream",
     "text": [
      " 57%|█████▋    | 2253/3960 [19:24<14:42,  1.93it/s]"
     ]
    },
    {
     "name": "stdout",
     "output_type": "stream",
     "text": [
      "/2014/10/02/article-fails-to-mention-that-tower-sniper-was-also-a-victim\n"
     ]
    },
    {
     "name": "stderr",
     "output_type": "stream",
     "text": [
      " 57%|█████▋    | 2257/3960 [19:26<14:40,  1.93it/s]"
     ]
    },
    {
     "name": "stdout",
     "output_type": "stream",
     "text": [
      "/2014/10/01/column-on-economy-lacks-logic-research\n"
     ]
    },
    {
     "name": "stderr",
     "output_type": "stream",
     "text": [
      " 57%|█████▋    | 2266/3960 [19:31<14:35,  1.93it/s]"
     ]
    },
    {
     "name": "stdout",
     "output_type": "stream",
     "text": [
      "/2014/09/29/article-on-ferguson-to-palestine-panel-omits-crucial-viewpoints\n"
     ]
    },
    {
     "name": "stderr",
     "output_type": "stream",
     "text": [
      " 57%|█████▋    | 2268/3960 [19:32<14:34,  1.93it/s]"
     ]
    },
    {
     "name": "stdout",
     "output_type": "stream",
     "text": [
      "/2014/09/26/reader-commends-family-for-donation-to-stuttering-institute\n"
     ]
    },
    {
     "name": "stderr",
     "output_type": "stream",
     "text": [
      " 60%|██████    | 2385/3960 [20:32<13:33,  1.94it/s]"
     ]
    },
    {
     "name": "stdout",
     "output_type": "stream",
     "text": [
      "/2014/06/29/top-online-comments\n"
     ]
    },
    {
     "name": "stderr",
     "output_type": "stream",
     "text": [
      " 62%|██████▏   | 2436/3960 [21:00<13:08,  1.93it/s]"
     ]
    },
    {
     "name": "stdout",
     "output_type": "stream",
     "text": [
      "/opinion/2014/04/27/firing-line-scrutiny-of-powers-undeserved\n"
     ]
    },
    {
     "name": "stderr",
     "output_type": "stream",
     "text": [
      " 62%|██████▏   | 2437/3960 [21:01<13:08,  1.93it/s]"
     ]
    },
    {
     "name": "stdout",
     "output_type": "stream",
     "text": [
      "/opinion/2014/04/24/we-asked-why-did-you-choose-to-come-to-ut\n"
     ]
    },
    {
     "name": "stderr",
     "output_type": "stream",
     "text": [
      " 62%|██████▏   | 2439/3960 [21:02<13:07,  1.93it/s]"
     ]
    },
    {
     "name": "stdout",
     "output_type": "stream",
     "text": [
      "/opinion/2014/04/24/friday-firing-lines-five-star-recruit-myles-turner\n"
     ]
    },
    {
     "name": "stderr",
     "output_type": "stream",
     "text": [
      " 62%|██████▏   | 2452/3960 [21:08<13:00,  1.93it/s]"
     ]
    },
    {
     "name": "stdout",
     "output_type": "stream",
     "text": [
      "/opinion/2014/04/17/quotes-to-note-patrick-castro-face-off-hall-drama\n"
     ]
    },
    {
     "name": "stderr",
     "output_type": "stream",
     "text": [
      " 62%|██████▏   | 2453/3960 [21:09<12:59,  1.93it/s]"
     ]
    },
    {
     "name": "stdout",
     "output_type": "stream",
     "text": [
      "/opinion/2014/04/17/friday-firing-lines-tasers-regent-wallace-hall-cns\n"
     ]
    },
    {
     "name": "stderr",
     "output_type": "stream",
     "text": [
      " 62%|██████▏   | 2460/3960 [21:12<12:56,  1.93it/s]"
     ]
    },
    {
     "name": "stdout",
     "output_type": "stream",
     "text": [
      "/opinion/2014/04/15/in-fight-over-ut-regent-wallace-hall-students-were-forgotten\n"
     ]
    },
    {
     "name": "stderr",
     "output_type": "stream",
     "text": [
      " 62%|██████▏   | 2468/3960 [21:16<12:51,  1.93it/s]"
     ]
    },
    {
     "name": "stdout",
     "output_type": "stream",
     "text": [
      "/opinion/2014/04/10/quotes-to-note-from-civil-rights-summit-speakers\n"
     ]
    },
    {
     "name": "stderr",
     "output_type": "stream",
     "text": [
      " 62%|██████▏   | 2469/3960 [21:17<12:51,  1.93it/s]"
     ]
    },
    {
     "name": "stdout",
     "output_type": "stream",
     "text": [
      "/opinion/2014/04/10/friday-firing-lines-information-technology-yik-yak-equal-rights\n"
     ]
    },
    {
     "name": "stderr",
     "output_type": "stream",
     "text": [
      " 62%|██████▏   | 2473/3960 [21:19<12:49,  1.93it/s]"
     ]
    },
    {
     "name": "stdout",
     "output_type": "stream",
     "text": [
      "/opinion/2014/04/08/firing-line-for-april-9-charles-murray-and-civil-rights-summit\n"
     ]
    },
    {
     "name": "stderr",
     "output_type": "stream",
     "text": [
      " 62%|██████▏   | 2474/3960 [21:20<12:48,  1.93it/s]"
     ]
    },
    {
     "name": "stdout",
     "output_type": "stream",
     "text": [
      "/opinion/2014/04/08/horns-up-for-april-9-civil-rights-summit-adding-disability-panel\n"
     ]
    },
    {
     "name": "stderr",
     "output_type": "stream",
     "text": [
      " 63%|██████▎   | 2483/3960 [21:24<12:44,  1.93it/s]"
     ]
    },
    {
     "name": "stdout",
     "output_type": "stream",
     "text": [
      "/opinion/2014/04/03/friday-firing-lines-abbott-hall-student-fruit-choices-the-tower\n"
     ]
    },
    {
     "name": "stderr",
     "output_type": "stream",
     "text": [
      " 63%|██████▎   | 2501/3960 [21:33<12:34,  1.93it/s]"
     ]
    },
    {
     "name": "stdout",
     "output_type": "stream",
     "text": [
      "/opinion/2014/03/27/friday-firing-lines-for-week-of-march-24-tuition-hikes-and-shared-services\n"
     ]
    },
    {
     "name": "stderr",
     "output_type": "stream",
     "text": [
      " 64%|██████▍   | 2530/3960 [21:48<12:19,  1.93it/s]"
     ]
    },
    {
     "name": "stdout",
     "output_type": "stream",
     "text": [
      "/opinion/2014/03/06/friday-firing-lines-for-week-of-mar-1-amnesty-economics-of-sex-judge-orlando\n"
     ]
    },
    {
     "name": "stderr",
     "output_type": "stream",
     "text": [
      " 64%|██████▍   | 2545/3960 [21:55<12:11,  1.93it/s]"
     ]
    },
    {
     "name": "stdout",
     "output_type": "stream",
     "text": [
      "/opinion/2014/02/27/friday-firing-lines-for-week-of-feb-24-jay-walking-and-austin-police-department\n"
     ]
    },
    {
     "name": "stderr",
     "output_type": "stream",
     "text": [
      " 65%|██████▍   | 2558/3960 [22:02<12:05,  1.93it/s]"
     ]
    },
    {
     "name": "stdout",
     "output_type": "stream",
     "text": [
      "/opinion/2014/02/20/friday-firing-lines-for-week-of-feb-17-memorial-museum-funding-and-toilet-paper\n"
     ]
    },
    {
     "name": "stderr",
     "output_type": "stream",
     "text": [
      " 66%|██████▌   | 2605/3960 [22:26<11:40,  1.93it/s]"
     ]
    },
    {
     "name": "stdout",
     "output_type": "stream",
     "text": [
      "/opinion/2014/01/30/firing-lines-sherlock-spoilers-pension-plans-and-budget-cuts\n"
     ]
    },
    {
     "name": "stderr",
     "output_type": "stream",
     "text": [
      " 68%|██████▊   | 2697/3960 [23:13<10:52,  1.93it/s]"
     ]
    },
    {
     "name": "stdout",
     "output_type": "stream",
     "text": [
      "/opinion/2013/11/08/friday-firing-lines-for-nov8-rape-prevention-and-abortion-availability\n"
     ]
    },
    {
     "name": "stderr",
     "output_type": "stream",
     "text": [
      " 69%|██████▉   | 2748/3960 [23:41<10:27,  1.93it/s]"
     ]
    },
    {
     "name": "stdout",
     "output_type": "stream",
     "text": [
      "/opinion/2013/10/17/quotes-to-note-for-the-week-of-oct14\n"
     ]
    },
    {
     "name": "stderr",
     "output_type": "stream",
     "text": [
      " 70%|███████   | 2772/3960 [23:53<10:14,  1.93it/s]"
     ]
    },
    {
     "name": "stdout",
     "output_type": "stream",
     "text": [
      "/opinion/2013/10/08/intro-chemistry-class-shows-benefits-of-peer-mentoring-online-content\n"
     ]
    },
    {
     "name": "stderr",
     "output_type": "stream",
     "text": [
      " 72%|███████▏  | 2832/3960 [24:23<09:43,  1.93it/s]"
     ]
    },
    {
     "name": "stdout",
     "output_type": "stream",
     "text": [
      "/opinion/2013/09/16/entrepreneurship-is-good-but-responsible-entrepreneurship-is-better\n"
     ]
    },
    {
     "name": "stderr",
     "output_type": "stream",
     "text": [
      " 72%|███████▏  | 2853/3960 [24:34<09:32,  1.94it/s]"
     ]
    },
    {
     "name": "stdout",
     "output_type": "stream",
     "text": [
      "/opinion/2013/09/08/horns-up-horns-down-for-sept-9-gerrymandering-football-foibles-and-running-from\n"
     ]
    },
    {
     "name": "stderr",
     "output_type": "stream",
     "text": [
      " 72%|███████▏  | 2854/3960 [24:34<09:31,  1.93it/s]"
     ]
    },
    {
     "name": "stdout",
     "output_type": "stream",
     "text": [
      "/opinion/2013/09/05/the-friday-firing-lines-balloons-water-and-syria\n"
     ]
    },
    {
     "name": "stderr",
     "output_type": "stream",
     "text": [
      " 72%|███████▏  | 2856/3960 [24:35<09:30,  1.93it/s]"
     ]
    },
    {
     "name": "stdout",
     "output_type": "stream",
     "text": [
      "/opinion/2013/09/05/capital-metro-should-not-eliminate-ut-shuttle-routes\n"
     ]
    },
    {
     "name": "stderr",
     "output_type": "stream",
     "text": [
      " 72%|███████▏  | 2859/3960 [24:37<09:28,  1.94it/s]"
     ]
    },
    {
     "name": "stdout",
     "output_type": "stream",
     "text": [
      "/opinion/2013/09/05/horns-up-horns-down-for-sept-5-same-sex-benefits-concealed-carry-the-rain-and-ted\n"
     ]
    },
    {
     "name": "stderr",
     "output_type": "stream",
     "text": [
      " 72%|███████▏  | 2860/3960 [24:37<09:28,  1.94it/s]"
     ]
    },
    {
     "name": "stdout",
     "output_type": "stream",
     "text": [
      "/opinion/2013/09/05/in-higher-ed-debate-pitts-recommendation-letter-not-worth-consideration\n"
     ]
    },
    {
     "name": "stderr",
     "output_type": "stream",
     "text": [
      " 72%|███████▏  | 2861/3960 [24:38<09:27,  1.94it/s]"
     ]
    },
    {
     "name": "stdout",
     "output_type": "stream",
     "text": [
      "/opinion/2013/09/04/why-you-should-write-for-the-daily-texan-opinion-department\n"
     ]
    },
    {
     "name": "stderr",
     "output_type": "stream",
     "text": [
      " 74%|███████▍  | 2925/3960 [25:11<08:54,  1.94it/s]"
     ]
    },
    {
     "name": "stdout",
     "output_type": "stream",
     "text": [
      "/opinion/2013/05/01/what-sacrifice-means\n"
     ]
    },
    {
     "name": "stderr",
     "output_type": "stream",
     "text": [
      " 74%|███████▍  | 2930/3960 [25:13<08:52,  1.94it/s]"
     ]
    },
    {
     "name": "stdout",
     "output_type": "stream",
     "text": [
      "/opinion/2013/04/29/learn-from-lehmberg\n"
     ]
    },
    {
     "name": "stderr",
     "output_type": "stream",
     "text": [
      " 75%|███████▌  | 2970/3960 [25:33<08:31,  1.94it/s]"
     ]
    },
    {
     "name": "stdout",
     "output_type": "stream",
     "text": [
      "/opinion/2013/04/11/we-asked-oil-money\n"
     ]
    },
    {
     "name": "stderr",
     "output_type": "stream",
     "text": [
      " 75%|███████▌  | 2984/3960 [25:40<08:23,  1.94it/s]"
     ]
    },
    {
     "name": "stdout",
     "output_type": "stream",
     "text": [
      "/opinion/2013/04/05/gun-bans-dont-ban-guns\n"
     ]
    },
    {
     "name": "stderr",
     "output_type": "stream",
     "text": [
      " 75%|███████▌  | 2985/3960 [25:40<08:23,  1.94it/s]"
     ]
    },
    {
     "name": "stdout",
     "output_type": "stream",
     "text": [
      "/opinion/2013/04/05/we-asked-does-drought-matter\n"
     ]
    },
    {
     "name": "stderr",
     "output_type": "stream",
     "text": [
      " 77%|███████▋  | 3038/3960 [26:09<07:56,  1.94it/s]"
     ]
    },
    {
     "name": "stdout",
     "output_type": "stream",
     "text": [
      "/2013/03/04/the-daily-texan-should-not-be-a-platform-for-hate\n"
     ]
    },
    {
     "name": "stderr",
     "output_type": "stream",
     "text": [
      " 77%|███████▋  | 3051/3960 [26:15<07:49,  1.94it/s]"
     ]
    },
    {
     "name": "stdout",
     "output_type": "stream",
     "text": [
      "/opinion/2013/02/26/gov-perry-dont-condone-texting-while-driving\n"
     ]
    },
    {
     "name": "stderr",
     "output_type": "stream",
     "text": [
      " 78%|███████▊  | 3077/3960 [26:28<07:35,  1.94it/s]"
     ]
    },
    {
     "name": "stdout",
     "output_type": "stream",
     "text": [
      "/opinion/2013/02/14/childish-adoration\n"
     ]
    },
    {
     "name": "stderr",
     "output_type": "stream",
     "text": [
      " 79%|███████▊  | 3109/3960 [26:44<07:19,  1.94it/s]"
     ]
    },
    {
     "name": "stdout",
     "output_type": "stream",
     "text": [
      "/opinion/2013/02/03/rewriting-history\n"
     ]
    },
    {
     "name": "stderr",
     "output_type": "stream",
     "text": [
      " 79%|███████▊  | 3111/3960 [26:45<07:18,  1.94it/s]"
     ]
    },
    {
     "name": "stdout",
     "output_type": "stream",
     "text": [
      "/opinion/2013/01/31/powers%E2%80%99-contradictory-vision\n"
     ]
    },
    {
     "name": "stderr",
     "output_type": "stream",
     "text": [
      " 79%|███████▊  | 3112/3960 [26:46<07:17,  1.94it/s]"
     ]
    },
    {
     "name": "stdout",
     "output_type": "stream",
     "text": [
      "/opinion/2013/01/31/ut-tracks-veterans\n"
     ]
    },
    {
     "name": "stderr",
     "output_type": "stream",
     "text": [
      " 79%|███████▊  | 3118/3960 [26:49<07:14,  1.94it/s]"
     ]
    },
    {
     "name": "stdout",
     "output_type": "stream",
     "text": [
      "/opinion/2013/01/29/smarter-business-practices\n"
     ]
    },
    {
     "name": "stderr",
     "output_type": "stream",
     "text": [
      " 79%|███████▉  | 3119/3960 [26:49<07:13,  1.94it/s]"
     ]
    },
    {
     "name": "stdout",
     "output_type": "stream",
     "text": [
      "/opinion/2013/01/29/pointless-attention-to-the-nas\n"
     ]
    },
    {
     "name": "stderr",
     "output_type": "stream",
     "text": [
      " 80%|███████▉  | 3160/3960 [27:10<06:52,  1.94it/s]"
     ]
    },
    {
     "name": "stdout",
     "output_type": "stream",
     "text": [
      "/opinion/2012/12/03/distinguish-mormons-from-polygamists\n"
     ]
    },
    {
     "name": "stderr",
     "output_type": "stream",
     "text": [
      " 80%|████████  | 3171/3960 [27:16<06:47,  1.94it/s]"
     ]
    },
    {
     "name": "stdout",
     "output_type": "stream",
     "text": [
      "/opinion/2012/11/29/greed-stupidity-or-a-clever-marketing-ploy\n"
     ]
    },
    {
     "name": "stderr",
     "output_type": "stream",
     "text": [
      " 80%|████████  | 3172/3960 [27:16<06:46,  1.94it/s]"
     ]
    },
    {
     "name": "stdout",
     "output_type": "stream",
     "text": [
      "/opinion/2012/11/29/reject-regnerus\n"
     ]
    },
    {
     "name": "stderr",
     "output_type": "stream",
     "text": [
      " 82%|████████▏ | 3231/3960 [27:45<06:15,  1.94it/s]"
     ]
    },
    {
     "name": "stdout",
     "output_type": "stream",
     "text": [
      "/opinion/2012/10/31/stop-pushing-prop-1\n"
     ]
    },
    {
     "name": "stderr",
     "output_type": "stream",
     "text": [
      " 82%|████████▏ | 3254/3960 [27:56<06:03,  1.94it/s]"
     ]
    },
    {
     "name": "stdout",
     "output_type": "stream",
     "text": [
      "/opinion/2012/10/21/what-to-watch-october-22-26\n"
     ]
    },
    {
     "name": "stderr",
     "output_type": "stream",
     "text": [
      " 88%|████████▊ | 3478/3960 [29:51<04:08,  1.94it/s]"
     ]
    },
    {
     "name": "stdout",
     "output_type": "stream",
     "text": [
      "/opinion/2012/04/01/quotes-to-note-tejano-monument-soap-ban-and-more\n"
     ]
    },
    {
     "name": "stderr",
     "output_type": "stream",
     "text": [
      " 88%|████████▊ | 3491/3960 [29:57<04:01,  1.94it/s]"
     ]
    },
    {
     "name": "stdout",
     "output_type": "stream",
     "text": [
      "/opinion/2012/03/28/continued-discussion-of-tuesdays-editorial-cartoon\n"
     ]
    },
    {
     "name": "stderr",
     "output_type": "stream",
     "text": [
      " 88%|████████▊ | 3502/3960 [30:03<03:55,  1.94it/s]"
     ]
    },
    {
     "name": "stdout",
     "output_type": "stream",
     "text": [
      "/opinion/2012/03/22/the-firing-line-election-season\n"
     ]
    },
    {
     "name": "stderr",
     "output_type": "stream",
     "text": [
      " 92%|█████████▏| 3642/3960 [31:15<02:43,  1.94it/s]"
     ]
    },
    {
     "name": "stdout",
     "output_type": "stream",
     "text": [
      "/opinion/2011/12/01/take-preventative-measures-against-hiv\n"
     ]
    },
    {
     "name": "stderr",
     "output_type": "stream",
     "text": [
      " 92%|█████████▏| 3643/3960 [31:15<02:43,  1.94it/s]"
     ]
    },
    {
     "name": "stdout",
     "output_type": "stream",
     "text": [
      "/opinion/2011/12/01/time-to-start-over\n"
     ]
    },
    {
     "name": "stderr",
     "output_type": "stream",
     "text": [
      " 92%|█████████▏| 3647/3960 [31:17<02:41,  1.94it/s]"
     ]
    },
    {
     "name": "stdout",
     "output_type": "stream",
     "text": [
      "/opinion/2011/11/29/may-we-meet-again-soon-ut\n"
     ]
    },
    {
     "name": "stderr",
     "output_type": "stream",
     "text": [
      " 92%|█████████▏| 3652/3960 [31:20<02:38,  1.94it/s]"
     ]
    },
    {
     "name": "stdout",
     "output_type": "stream",
     "text": [
      "/2011/11/28/occupy-ut-exists\n"
     ]
    },
    {
     "name": "stderr",
     "output_type": "stream",
     "text": [
      " 93%|█████████▎| 3664/3960 [31:26<02:32,  1.94it/s]"
     ]
    },
    {
     "name": "stdout",
     "output_type": "stream",
     "text": [
      "/opinion/2011/11/21/top-10-bathroom-story-overlooks-larger-issue\n"
     ]
    },
    {
     "name": "stderr",
     "output_type": "stream",
     "text": [
      " 93%|█████████▎| 3665/3960 [31:27<02:31,  1.94it/s]"
     ]
    },
    {
     "name": "stdout",
     "output_type": "stream",
     "text": [
      "/opinion/2011/11/21/thank-you-longhorns\n"
     ]
    },
    {
     "name": "stderr",
     "output_type": "stream",
     "text": [
      " 93%|█████████▎| 3668/3960 [31:28<02:30,  1.94it/s]"
     ]
    },
    {
     "name": "stdout",
     "output_type": "stream",
     "text": [
      "/opinion/2011/11/20/quotes-to-note-addressing-higher-education-governance\n"
     ]
    },
    {
     "name": "stderr",
     "output_type": "stream",
     "text": [
      " 93%|█████████▎| 3671/3960 [31:30<02:28,  1.94it/s]"
     ]
    },
    {
     "name": "stdout",
     "output_type": "stream",
     "text": [
      "/opinion/2011/11/17/the-firing-line-valuing-the-arts\n"
     ]
    },
    {
     "name": "stderr",
     "output_type": "stream",
     "text": [
      " 93%|█████████▎| 3695/3960 [31:42<02:16,  1.94it/s]"
     ]
    },
    {
     "name": "stdout",
     "output_type": "stream",
     "text": [
      "/2011/11/08/quotes-to-note-registration-woes-inspiration-myedu\n"
     ]
    },
    {
     "name": "stderr",
     "output_type": "stream",
     "text": [
      " 93%|█████████▎| 3696/3960 [31:42<02:15,  1.94it/s]"
     ]
    },
    {
     "name": "stdout",
     "output_type": "stream",
     "text": [
      "/2011/11/08/discrimination-column-treads-too-much-on-political-grounds\n"
     ]
    },
    {
     "name": "stderr",
     "output_type": "stream",
     "text": [
      " 93%|█████████▎| 3700/3960 [31:44<02:13,  1.94it/s]"
     ]
    },
    {
     "name": "stdout",
     "output_type": "stream",
     "text": [
      "/opinion/2011/11/06/failing-to-see-the-big-picture-in-the-myedu-debate\n"
     ]
    },
    {
     "name": "stderr",
     "output_type": "stream",
     "text": [
      " 94%|█████████▎| 3708/3960 [31:49<02:09,  1.94it/s]"
     ]
    },
    {
     "name": "stdout",
     "output_type": "stream",
     "text": [
      "/opinion/2011/11/02/show-your-longhorn-pride\n"
     ]
    },
    {
     "name": "stderr",
     "output_type": "stream",
     "text": [
      " 94%|█████████▎| 3709/3960 [31:49<02:09,  1.94it/s]"
     ]
    },
    {
     "name": "stdout",
     "output_type": "stream",
     "text": [
      "/2011/11/02/study-abroad-column-drew-inaccurate-conclusions\n"
     ]
    },
    {
     "name": "stderr",
     "output_type": "stream",
     "text": [
      " 94%|█████████▍| 3732/3960 [32:03<01:57,  1.94it/s]"
     ]
    },
    {
     "name": "stdout",
     "output_type": "stream",
     "text": [
      "/opinion/2011/10/24/leaving-no-stone-unturned\n"
     ]
    },
    {
     "name": "stderr",
     "output_type": "stream",
     "text": [
      " 94%|█████████▍| 3740/3960 [32:07<01:53,  1.94it/s]"
     ]
    },
    {
     "name": "stdout",
     "output_type": "stream",
     "text": [
      "/opinion/2011/10/19/front-page-gem\n"
     ]
    },
    {
     "name": "stderr",
     "output_type": "stream",
     "text": [
      " 94%|█████████▍| 3742/3960 [32:08<01:52,  1.94it/s]"
     ]
    },
    {
     "name": "stdout",
     "output_type": "stream",
     "text": [
      "/opinion/2011/10/19/defending-the-occupy-message\n"
     ]
    },
    {
     "name": "stderr",
     "output_type": "stream",
     "text": [
      " 95%|█████████▌| 3763/3960 [32:19<01:41,  1.94it/s]"
     ]
    },
    {
     "name": "stdout",
     "output_type": "stream",
     "text": [
      "/2011/10/12/a-specious-argument\n"
     ]
    },
    {
     "name": "stderr",
     "output_type": "stream",
     "text": [
      " 95%|█████████▌| 3771/3960 [32:23<01:37,  1.94it/s]"
     ]
    },
    {
     "name": "stdout",
     "output_type": "stream",
     "text": [
      "/opinion/2011/10/09/single-gender-schools-prove-beneficial\n"
     ]
    },
    {
     "name": "stderr",
     "output_type": "stream",
     "text": [
      " 95%|█████████▌| 3772/3960 [32:23<01:36,  1.94it/s]"
     ]
    },
    {
     "name": "stdout",
     "output_type": "stream",
     "text": [
      "/opinion/2011/10/09/the-role-of-a-newspaper\n"
     ]
    },
    {
     "name": "stderr",
     "output_type": "stream",
     "text": [
      " 95%|█████████▌| 3779/3960 [32:27<01:33,  1.94it/s]"
     ]
    },
    {
     "name": "stdout",
     "output_type": "stream",
     "text": [
      "/2011/10/03/simply-embarrassing\n"
     ]
    },
    {
     "name": "stderr",
     "output_type": "stream",
     "text": [
      " 95%|█████████▌| 3781/3960 [32:28<01:32,  1.94it/s]"
     ]
    },
    {
     "name": "stdout",
     "output_type": "stream",
     "text": [
      "/opinion/2011/10/03/standardized-curiosity\n"
     ]
    },
    {
     "name": "stderr",
     "output_type": "stream",
     "text": [
      " 96%|█████████▌| 3786/3960 [32:31<01:29,  1.94it/s]"
     ]
    },
    {
     "name": "stdout",
     "output_type": "stream",
     "text": [
      "/opinion/2011/09/29/gilberts-jersey-article-causes-ire-in-readers\n"
     ]
    },
    {
     "name": "stderr",
     "output_type": "stream",
     "text": [
      " 96%|█████████▌| 3804/3960 [32:39<01:20,  1.94it/s]"
     ]
    },
    {
     "name": "stdout",
     "output_type": "stream",
     "text": [
      "/opinion/2011/09/23/from-texas-to-georgia-stop-executions\n"
     ]
    },
    {
     "name": "stderr",
     "output_type": "stream",
     "text": [
      " 96%|█████████▌| 3805/3960 [32:40<01:19,  1.94it/s]"
     ]
    },
    {
     "name": "stdout",
     "output_type": "stream",
     "text": [
      "/opinion/2011/09/23/greek-studies-still-offered\n"
     ]
    },
    {
     "name": "stderr",
     "output_type": "stream",
     "text": [
      " 96%|█████████▌| 3806/3960 [32:40<01:19,  1.94it/s]"
     ]
    },
    {
     "name": "stdout",
     "output_type": "stream",
     "text": [
      "/opinion/2011/09/22/inaccuracies-of-ad-regarding-israel-palestine-conflict\n"
     ]
    },
    {
     "name": "stderr",
     "output_type": "stream",
     "text": [
      " 97%|█████████▋| 3823/3960 [32:48<01:10,  1.94it/s]"
     ]
    },
    {
     "name": "stdout",
     "output_type": "stream",
     "text": [
      "/opinion/2011/09/13/longhorns-welcome-byu-fans\n"
     ]
    },
    {
     "name": "stderr",
     "output_type": "stream",
     "text": [
      " 97%|█████████▋| 3824/3960 [32:49<01:10,  1.94it/s]"
     ]
    },
    {
     "name": "stdout",
     "output_type": "stream",
     "text": [
      "/opinion/2011/09/13/still-embarassed\n"
     ]
    },
    {
     "name": "stderr",
     "output_type": "stream",
     "text": [
      " 97%|█████████▋| 3825/3960 [32:49<01:09,  1.94it/s]"
     ]
    },
    {
     "name": "stdout",
     "output_type": "stream",
     "text": [
      "/opinion/2011/09/13/a-shared-ut-experience\n"
     ]
    },
    {
     "name": "stderr",
     "output_type": "stream",
     "text": [
      " 97%|█████████▋| 3829/3960 [32:51<01:07,  1.94it/s]"
     ]
    },
    {
     "name": "stdout",
     "output_type": "stream",
     "text": [
      "/opinion/2011/09/13/more-than-a-game\n"
     ]
    },
    {
     "name": "stderr",
     "output_type": "stream",
     "text": [
      " 97%|█████████▋| 3839/3960 [32:58<01:02,  1.94it/s]"
     ]
    },
    {
     "name": "stdout",
     "output_type": "stream",
     "text": [
      "/opinion/2011/09/06/the-most-polite-burglar\n"
     ]
    },
    {
     "name": "stderr",
     "output_type": "stream",
     "text": [
      " 97%|█████████▋| 3842/3960 [32:59<01:00,  1.94it/s]"
     ]
    },
    {
     "name": "stdout",
     "output_type": "stream",
     "text": [
      "/opinion/2011/09/05/following-the-lead-of-fools\n"
     ]
    },
    {
     "name": "stderr",
     "output_type": "stream",
     "text": [
      " 97%|█████████▋| 3854/3960 [33:05<00:54,  1.94it/s]"
     ]
    },
    {
     "name": "stdout",
     "output_type": "stream",
     "text": [
      "/opinion/2011/08/28/a-big-win-for-students\n"
     ]
    },
    {
     "name": "stderr",
     "output_type": "stream",
     "text": [
      " 98%|█████████▊| 3865/3960 [33:11<00:48,  1.94it/s]"
     ]
    },
    {
     "name": "stdout",
     "output_type": "stream",
     "text": [
      "/opinion/2011/08/04/psychics-fail-to-adequately-demonstrate-ability\n"
     ]
    },
    {
     "name": "stderr",
     "output_type": "stream",
     "text": [
      " 98%|█████████▊| 3871/3960 [33:14<00:45,  1.94it/s]"
     ]
    },
    {
     "name": "stdout",
     "output_type": "stream",
     "text": [
      "/opinion/2011/07/27/where-is-the-research\n"
     ]
    },
    {
     "name": "stderr",
     "output_type": "stream",
     "text": [
      " 98%|█████████▊| 3872/3960 [33:14<00:45,  1.94it/s]"
     ]
    },
    {
     "name": "stdout",
     "output_type": "stream",
     "text": [
      "/opinion/2011/07/27/the-cost-of-free-parking\n"
     ]
    },
    {
     "name": "stderr",
     "output_type": "stream",
     "text": [
      " 98%|█████████▊| 3885/3960 [33:21<00:38,  1.94it/s]"
     ]
    },
    {
     "name": "stdout",
     "output_type": "stream",
     "text": [
      "/opinion/2011/07/13/a-faculty%C2%92s-obligation\n"
     ]
    },
    {
     "name": "stderr",
     "output_type": "stream",
     "text": [
      " 98%|█████████▊| 3887/3960 [33:22<00:37,  1.94it/s]"
     ]
    },
    {
     "name": "stdout",
     "output_type": "stream",
     "text": [
      "/opinion/2011/07/12/our-beauty-your-charm\n"
     ]
    },
    {
     "name": "stderr",
     "output_type": "stream",
     "text": [
      " 98%|█████████▊| 3888/3960 [33:23<00:37,  1.94it/s]"
     ]
    },
    {
     "name": "stdout",
     "output_type": "stream",
     "text": [
      "/opinion/2011/07/11/tenure-proves-beneficial-to-higher-education\n"
     ]
    },
    {
     "name": "stderr",
     "output_type": "stream",
     "text": [
      " 98%|█████████▊| 3889/3960 [33:23<00:36,  1.94it/s]"
     ]
    },
    {
     "name": "stdout",
     "output_type": "stream",
     "text": [
      "/opinion/2011/07/11/replace-tenure-with-multiyear-renewable-contracts\n"
     ]
    },
    {
     "name": "stderr",
     "output_type": "stream",
     "text": [
      " 98%|█████████▊| 3890/3960 [33:23<00:36,  1.94it/s]"
     ]
    },
    {
     "name": "stdout",
     "output_type": "stream",
     "text": [
      "/opinion/2011/07/07/confederate-plates-create-mixed-emotions\n"
     ]
    },
    {
     "name": "stderr",
     "output_type": "stream",
     "text": [
      " 98%|█████████▊| 3893/3960 [33:25<00:34,  1.94it/s]"
     ]
    },
    {
     "name": "stdout",
     "output_type": "stream",
     "text": [
      "/opinion/2011/07/05/disgusted-and-disappointed\n"
     ]
    },
    {
     "name": "stderr",
     "output_type": "stream",
     "text": [
      " 98%|█████████▊| 3899/3960 [33:28<00:31,  1.94it/s]"
     ]
    },
    {
     "name": "stdout",
     "output_type": "stream",
     "text": [
      "/opinion/2011/06/26/governor-rick-perry-only-representing-himself\n"
     ]
    },
    {
     "name": "stderr",
     "output_type": "stream",
     "text": [
      " 99%|█████████▊| 3905/3960 [33:31<00:28,  1.94it/s]"
     ]
    },
    {
     "name": "stdout",
     "output_type": "stream",
     "text": [
      "/opinion/2011/06/20/champagne-on-a-beer-budget\n"
     ]
    },
    {
     "name": "stderr",
     "output_type": "stream",
     "text": [
      "100%|██████████| 3960/3960 [33:59<00:00,  1.94it/s]\n"
     ]
    }
   ],
   "source": [
    "get_articles(get_urls(395,'opinion')).to_pickle('data/opinion.p')"
   ]
  },
  {
   "cell_type": "code",
   "execution_count": 3,
   "metadata": {
    "ExecuteTime": {
     "end_time": "2017-10-17T14:33:08.826860Z",
     "start_time": "2017-10-17T14:33:08.787963Z"
    }
   },
   "outputs": [],
   "source": [
    "data = pd.read_pickle('data/opinion.p')\n",
    "data.text = data.text.str.strip()\n",
    "data.author = data.author.str.lower()\n",
    "# data = data[data.author.isin(data.author.value_counts().head(20).index)]"
   ]
  },
  {
   "cell_type": "code",
   "execution_count": 5,
   "metadata": {
    "ExecuteTime": {
     "end_time": "2017-10-17T14:34:01.845298Z",
     "start_time": "2017-10-17T14:34:01.820071Z"
    }
   },
   "outputs": [],
   "source": [
    "from nltk.sentiment import SentimentIntensityAnalyzer\n",
    "sid = SentimentIntensityAnalyzer()"
   ]
  },
  {
   "cell_type": "code",
   "execution_count": 8,
   "metadata": {
    "ExecuteTime": {
     "end_time": "2017-10-17T14:35:36.200874Z",
     "start_time": "2017-10-17T14:35:18.916187Z"
    }
   },
   "outputs": [],
   "source": [
    "data['sent'] = data.text.map(lambda i: sid.polarity_scores(i)['compound'])"
   ]
  },
  {
   "cell_type": "code",
   "execution_count": 53,
   "metadata": {
    "ExecuteTime": {
     "end_time": "2017-09-21T06:31:43.806941Z",
     "start_time": "2017-09-21T06:31:41.308114Z"
    }
   },
   "outputs": [],
   "source": [
    "from sklearn.feature_extraction.text import TfidfVectorizer\n",
    "v = TfidfVectorizer(stop_words='english', strip_accents='unicode').fit(data.text)\n",
    "w = v.transform(data.text)"
   ]
  },
  {
   "cell_type": "code",
   "execution_count": 50,
   "metadata": {
    "ExecuteTime": {
     "end_time": "2017-09-21T06:31:23.952029Z",
     "start_time": "2017-09-21T06:31:23.937145Z"
    }
   },
   "outputs": [],
   "source": [
    "from sklearn.naive_bayes import MultinomialNB\n",
    "y = LabelEncoder().fit_transform(data.author.str.lower())\n",
    "m = MultinomialNB(alpha=.1).fit(w, y)"
   ]
  },
  {
   "cell_type": "code",
   "execution_count": 51,
   "metadata": {
    "ExecuteTime": {
     "end_time": "2017-09-21T06:31:24.637423Z",
     "start_time": "2017-09-21T06:31:24.628435Z"
    }
   },
   "outputs": [
    {
     "data": {
      "text/plain": [
       "0.97190293742017875"
      ]
     },
     "execution_count": 51,
     "metadata": {},
     "output_type": "execute_result"
    }
   ],
   "source": [
    "m.score(w, y)"
   ]
  },
  {
   "cell_type": "code",
   "execution_count": 54,
   "metadata": {
    "ExecuteTime": {
     "end_time": "2017-09-21T06:33:44.406203Z",
     "start_time": "2017-09-21T06:32:33.439438Z"
    },
    "scrolled": true
   },
   "outputs": [
    {
     "name": "stdout",
     "output_type": "stream",
     "text": [
      "Initialization complete\n",
      "Initialization complete\n",
      "Initialization complete\n",
      "Initialization complete\n",
      "Initialization complete\n",
      "Initialization complete\n",
      "Initialization complete\n",
      "Initialization complete\n",
      "Iteration  0, inertia 4730.641\n",
      "Iteration  0, inertia 4743.456\n",
      "Iteration  0, inertia 4683.911\n",
      "Iteration  0, inertia 4730.312\n",
      "Iteration  0, inertia 4740.505\n",
      "Iteration  0, inertia 4724.488\n",
      "Iteration  0, inertia 4734.731\n",
      "Iteration  0, inertia 4729.638\n",
      "Iteration  1, inertia 2449.850\n",
      "Iteration  1, inertia 2447.293\n",
      "Iteration  1, inertia 2456.910\n",
      "Iteration  1, inertia 2450.733\n",
      "Iteration  1, inertia 2450.318\n",
      "Iteration  1, inertia 2452.134\n",
      "Iteration  1, inertia 2457.944\n",
      "Iteration  1, inertia 2456.176\n",
      "Iteration  2, inertia 2439.075\n",
      "Iteration  2, inertia 2438.401\n",
      "Iteration  2, inertia 2438.472\n",
      "Iteration  2, inertia 2438.705\n",
      "Iteration  2, inertia 2445.336\n",
      "Iteration  2, inertia 2440.616\n",
      "Iteration  2, inertia 2445.380\n",
      "Iteration  2, inertia 2444.665\n",
      "Iteration  3, inertia 2435.751\n",
      "Iteration  3, inertia 2434.428\n",
      "Iteration  3, inertia 2434.429\n",
      "Iteration  3, inertia 2435.929\n",
      "Iteration  3, inertia 2436.643\n",
      "Iteration  3, inertia 2440.518\n",
      "Iteration  3, inertia 2438.396\n",
      "Iteration  3, inertia 2439.002\n",
      "Iteration  4, inertia 2433.969\n",
      "Iteration  4, inertia 2432.873\n",
      "Iteration  4, inertia 2432.826\n",
      "Iteration  4, inertia 2433.991\n",
      "Iteration  4, inertia 2434.721\n",
      "Iteration  4, inertia 2435.254\n",
      "Iteration  4, inertia 2438.386\n",
      "Iteration  4, inertia 2434.371\n",
      "Iteration  5, inertia 2432.796\n",
      "Iteration  5, inertia 2432.184\n",
      "Iteration  5, inertia 2432.001\n",
      "Iteration  5, inertia 2433.452\n",
      "Iteration  5, inertia 2432.796\n",
      "Iteration  5, inertia 2433.604\n",
      "Iteration  5, inertia 2436.700\n",
      "Iteration  5, inertia 2431.779\n",
      "Iteration  6, inertia 2431.908\n",
      "Iteration  6, inertia 2431.741\n",
      "Iteration  6, inertia 2431.518\n",
      "Iteration  6, inertia 2432.426\n",
      "Iteration  6, inertia 2434.975\n",
      "Iteration  6, inertia 2432.816\n",
      "Iteration  6, inertia 2431.495\n",
      "Iteration  6, inertia 2430.148\n",
      "Iteration  7, inertia 2431.379\n",
      "Iteration  7, inertia 2431.175\n",
      "Iteration  7, inertia 2431.241\n",
      "Iteration  7, inertia 2433.358\n",
      "Iteration  7, inertia 2431.617\n",
      "Iteration  7, inertia 2432.309\n",
      "Iteration  7, inertia 2429.198\n",
      "Iteration  7, inertia 2429.474\n",
      "Iteration  8, inertia 2430.713\n",
      "Iteration  8, inertia 2430.381\n",
      "Iteration  8, inertia 2431.098\n",
      "Iteration  8, inertia 2430.716\n",
      "Iteration  8, inertia 2431.975\n",
      "Iteration  8, inertia 2432.256\n",
      "Iteration  8, inertia 2428.316\n",
      "Iteration  8, inertia 2428.940\n",
      "Iteration  9, inertia 2430.295\n",
      "Iteration  9, inertia 2429.953\n",
      "Iteration  9, inertia 2430.774\n",
      "Iteration  9, inertia 2430.563\n",
      "Iteration  9, inertia 2431.688\n",
      "Iteration  9, inertia 2431.354\n",
      "Iteration  9, inertia 2427.999\n",
      "Iteration  9, inertia 2428.626\n",
      "Iteration 10, inertia 2429.825\n",
      "Iteration 10, inertia 2429.631\n",
      "Iteration 10, inertia 2431.460\n",
      "Iteration 10, inertia 2430.548\n",
      "Iteration 10, inertia 2430.533\n",
      "Iteration 10, inertia 2430.299\n",
      "Iteration 10, inertia 2427.869\n",
      "Iteration 10, inertia 2428.370\n",
      "Iteration 11, inertia 2429.617\n",
      "Iteration 11, inertia 2429.369\n",
      "Iteration 11, inertia 2431.294\n",
      "Iteration 11, inertia 2430.481\n",
      "Iteration 11, inertia 2427.809\n",
      "Iteration 11, inertia 2430.503\n",
      "Iteration 11, inertia 2429.483\n",
      "Iteration 11, inertia 2428.013\n",
      "Iteration 12, inertia 2429.501\n",
      "Iteration 12, inertia 2429.105\n",
      "Iteration 12, inertia 2431.081\n",
      "Iteration 12, inertia 2430.457\n",
      "Iteration 12, inertia 2430.499\n",
      "Converged at iteration 12: center shift 0.000000e+00 within tolerance 2.776103e-09\n",
      "Iteration 12, inertia 2427.786\n",
      "Iteration 12, inertia 2428.959\n",
      "Iteration 12, inertia 2427.686\n",
      "Initialization complete\n",
      "Iteration 13, inertia 2429.380\n",
      "Iteration 13, inertia 2428.478\n",
      "Iteration 13, inertia 2430.453\n",
      "Iteration 13, inertia 2430.833\n",
      "Iteration 13, inertia 2427.759\n",
      "Iteration 13, inertia 2428.502\n",
      "Iteration 13, inertia 2427.410\n",
      "Iteration  0, inertia 4708.014\n",
      "Iteration 14, inertia 2429.349\n",
      "Iteration 14, inertia 2428.108\n",
      "Iteration 14, inertia 2430.449\n",
      "Converged at iteration 14: center shift 0.000000e+00 within tolerance 2.776103e-09\n",
      "Iteration 14, inertia 2430.511\n",
      "Initialization complete\n",
      "Iteration 14, inertia 2427.750\n",
      "Converged at iteration 14: center shift 0.000000e+00 within tolerance 2.776103e-09\n",
      "Iteration 14, inertia 2428.180\n",
      "Iteration  1, inertia 2453.342\n",
      "Iteration 14, inertia 2427.243\n",
      "Iteration 15, inertia 2429.323\n",
      "Iteration 15, inertia 2427.819\n",
      "Iteration 15, inertia 2430.224\n",
      "Iteration  0, inertia 4733.118\n",
      "Iteration 15, inertia 2427.979\n",
      "Iteration  2, inertia 2441.457\n",
      "Iteration 15, inertia 2427.108\n",
      "Iteration 16, inertia 2429.276\n",
      "Iteration 16, inertia 2427.577\n",
      "Iteration 16, inertia 2429.889\n",
      "Iteration 16, inertia 2427.822\n",
      "Iteration  1, inertia 2455.933\n",
      "Iteration  3, inertia 2437.507\n",
      "Iteration 16, inertia 2427.041\n",
      "Iteration 17, inertia 2429.259\n",
      "Iteration 17, inertia 2429.444\n",
      "Iteration  2, inertia 2446.077\n",
      "Iteration 17, inertia 2427.340\n",
      "Iteration 17, inertia 2427.724\n",
      "Iteration  4, inertia 2435.515\n",
      "Iteration 17, inertia 2426.992\n",
      "Iteration 18, inertia 2429.250\n",
      "Converged at iteration 18: center shift 0.000000e+00 within tolerance 2.776103e-09\n",
      "Iteration 18, inertia 2429.314\n",
      "Iteration 18, inertia 2427.052\n",
      "Iteration  5, inertia 2434.329\n",
      "Iteration 18, inertia 2427.678\n",
      "Iteration  3, inertia 2440.634\n",
      "Iteration 18, inertia 2426.975\n",
      "Iteration 19, inertia 2429.308\n",
      "Iteration  6, inertia 2433.594\n",
      "Iteration 19, inertia 2426.836\n",
      "Iteration 19, inertia 2427.644\n",
      "Iteration  4, inertia 2437.832\n",
      "Iteration 19, inertia 2426.961\n",
      "Iteration 20, inertia 2429.301\n",
      "Iteration  5, inertia 2436.034\n",
      "Iteration 20, inertia 2426.792\n",
      "Iteration  7, inertia 2433.012\n",
      "Iteration 20, inertia 2427.637\n",
      "Iteration 20, inertia 2426.955\n",
      "Iteration 21, inertia 2429.292\n",
      "Iteration  6, inertia 2435.553\n",
      "Iteration 21, inertia 2427.634\n",
      "Iteration 21, inertia 2426.785\n",
      "Iteration  8, inertia 2432.268\n",
      "Iteration 21, inertia 2426.950\n",
      "Iteration 22, inertia 2426.780\n",
      "Converged at iteration 22: center shift 0.000000e+00 within tolerance 2.776103e-09\n",
      "Iteration  7, inertia 2435.334\n",
      "Iteration 22, inertia 2429.287\n",
      "Iteration 22, inertia 2427.630\n",
      "Converged at iteration 22: center shift 0.000000e+00 within tolerance 2.776103e-09\n",
      "Iteration  9, inertia 2431.393\n",
      "Iteration 22, inertia 2426.947\n",
      "Converged at iteration 22: center shift 0.000000e+00 within tolerance 2.776103e-09\n",
      "Iteration  8, inertia 2435.223\n",
      "Iteration 23, inertia 2429.283\n",
      "Converged at iteration 23: center shift 0.000000e+00 within tolerance 2.776103e-09\n",
      "Iteration 10, inertia 2430.308\n",
      "Iteration  9, inertia 2435.178\n",
      "Iteration 11, inertia 2428.790\n",
      "Iteration 10, inertia 2435.122\n",
      "Iteration 12, inertia 2427.816\n",
      "Iteration 11, inertia 2435.084\n",
      "Iteration 13, inertia 2427.429\n",
      "Iteration 12, inertia 2435.051\n",
      "Iteration 14, inertia 2427.236\n",
      "Iteration 13, inertia 2435.043\n",
      "Converged at iteration 13: center shift 0.000000e+00 within tolerance 2.776103e-09\n",
      "Iteration 15, inertia 2427.117\n",
      "Iteration 16, inertia 2427.061\n",
      "Iteration 17, inertia 2427.055\n",
      "Iteration 18, inertia 2427.048\n",
      "Iteration 19, inertia 2427.040\n",
      "Iteration 20, inertia 2427.014\n",
      "Iteration 21, inertia 2426.982\n",
      "Iteration 22, inertia 2426.953\n",
      "Iteration 23, inertia 2426.921\n",
      "Iteration 24, inertia 2426.868\n",
      "Iteration 25, inertia 2426.858\n",
      "Converged at iteration 25: center shift 0.000000e+00 within tolerance 2.776103e-09\n"
     ]
    }
   ],
   "source": [
    "from sklearn.cluster import KMeans\n",
    "k = KMeans(n_jobs=-1, verbose=1, random_state=42).fit(w)"
   ]
  },
  {
   "cell_type": "code",
   "execution_count": 58,
   "metadata": {
    "ExecuteTime": {
     "end_time": "2017-09-21T06:36:25.013335Z",
     "start_time": "2017-09-21T06:36:24.999886Z"
    }
   },
   "outputs": [
    {
     "data": {
      "text/plain": [
       "spurning          0.109158\n",
       "harmfully         0.077428\n",
       "nepotistic        0.076215\n",
       "ingloriously      0.066014\n",
       "inefficiency      0.061617\n",
       "constituency      0.052348\n",
       "brashly           0.048730\n",
       "1462              0.046882\n",
       "barrel            0.045194\n",
       "demonstrates      0.041288\n",
       "devoting          0.040403\n",
       "surcharge         0.039286\n",
       "gnarly            0.036088\n",
       "wooing            0.032325\n",
       "erg               0.031470\n",
       "sweetheart        0.030562\n",
       "356               0.030233\n",
       "foodstuffs        0.030133\n",
       "surrendering      0.029976\n",
       "cassell           0.028429\n",
       "modulators        0.027308\n",
       "ny                0.026300\n",
       "crudely           0.024046\n",
       "boss              0.023613\n",
       "120               0.021996\n",
       "discomfort        0.021676\n",
       "courtrooms        0.021377\n",
       "template          0.021295\n",
       "campuswide        0.021219\n",
       "eliciting         0.020514\n",
       "                    ...   \n",
       "devon             0.000000\n",
       "dysfunctional     0.000000\n",
       "sanger            0.000000\n",
       "contextualizes    0.000000\n",
       "circumvented      0.000000\n",
       "borrows           0.000000\n",
       "extol             0.000000\n",
       "astray            0.000000\n",
       "veer              0.000000\n",
       "inconvenienced    0.000000\n",
       "mooted            0.000000\n",
       "overkill          0.000000\n",
       "wiped             0.000000\n",
       "darling           0.000000\n",
       "sowder            0.000000\n",
       "kupec             0.000000\n",
       "recounting        0.000000\n",
       "shahab            0.000000\n",
       "irris             0.000000\n",
       "834               0.000000\n",
       "104               0.000000\n",
       "253               0.000000\n",
       "171               0.000000\n",
       "newsrooms         0.000000\n",
       "nontenured        0.000000\n",
       "humphrey          0.000000\n",
       "humphrinator      0.000000\n",
       "brouhaha          0.000000\n",
       "graphically       0.000000\n",
       "prerequisite      0.000000\n",
       "Name: 0, Length: 34850, dtype: float64"
      ]
     },
     "execution_count": 58,
     "metadata": {},
     "output_type": "execute_result"
    }
   ],
   "source": [
    "cc = pd.DataFrame(data=k.cluster_centers_, columns=v.vocabulary_).T\n",
    "cc[0].sort_values(ascending=False)"
   ]
  },
  {
   "cell_type": "code",
   "execution_count": 60,
   "metadata": {
    "ExecuteTime": {
     "end_time": "2017-09-21T06:38:30.553625Z",
     "start_time": "2017-09-21T06:38:30.541385Z"
    }
   },
   "outputs": [],
   "source": [
    "data['cluster'] = k.predict(w)"
   ]
  },
  {
   "cell_type": "code",
   "execution_count": 70,
   "metadata": {
    "ExecuteTime": {
     "end_time": "2017-09-21T16:54:04.936100Z",
     "start_time": "2017-09-21T16:54:04.851355Z"
    }
   },
   "outputs": [
    {
     "data": {
      "text/plain": [
       "matt offill                           1.000000\n",
       "mitchell hughes ralph                 1.000000\n",
       "ezra siegel                           1.000000\n",
       "evan berkowitz                        1.000000\n",
       "juan carlos delafuente                1.000000\n",
       "ou daily                              1.000000\n",
       "marc nestenius                        1.000000\n",
       "david leffler                         1.000000\n",
       "garrett callahan                      1.000000\n",
       "curry shoff                           1.000000\n",
       "christian corona                      1.000000\n",
       "the oklahoma daily editorial board    1.000000\n",
       "thomas hunt, anne mueller             1.000000\n",
       "chad markey                           1.000000\n",
       "nick castillo                         1.000000\n",
       "travis adams                          0.666667\n",
       "jasmine c. johnson                    0.666667\n",
       "jori epstein                          0.615385\n",
       "daley epstein                         0.500000\n",
       "matthew gil                           0.500000\n",
       "patrick st. pierre                    0.500000\n",
       "zachary adams                         0.333333\n",
       "eric sundin                           0.333333\n",
       "reagan stuart                         0.300000\n",
       "delaney mayfield                      0.285714\n",
       "john daywalt                          0.250000\n",
       "tom palaima                           0.250000\n",
       "davis clark                           0.222222\n",
       "hannah lapin                          0.200000\n",
       "the daily texan editorial board       0.168831\n",
       "diane sun                             0.166667\n",
       "mia ciardi                            0.166667\n",
       "adam humphrey                         0.142857\n",
       "lauren ferguson                       0.142857\n",
       "randon curl                           0.111111\n",
       "dolph briscoe iv                      0.111111\n",
       "nrhari duran                          0.100000\n",
       "stephen mcgarvey                      0.100000\n",
       "edgar walters                         0.090909\n",
       "eric nikolaides                       0.090909\n",
       "emma berdanier                        0.083333\n",
       "erica ndubueze                        0.076923\n",
       "khadija saifullah                     0.073171\n",
       "olivia griffin                        0.066667\n",
       "audrey larcher                        0.064516\n",
       "olivia berkeley                       0.058824\n",
       "chuck matula                          0.058824\n",
       "ratnika batra                         0.058824\n",
       "alexander chase                       0.052632\n",
       "david bordelon                        0.052632\n",
       "laura wright                          0.043478\n",
       "katherine taylor                      0.043478\n",
       "cuillin chastain-howley               0.041667\n",
       "jeremi suri                           0.034483\n",
       "emily vernon                          0.033333\n",
       "noah m. horwitz                       0.019048\n",
       "Name: author, dtype: float64"
      ]
     },
     "execution_count": 70,
     "metadata": {},
     "output_type": "execute_result"
    }
   ],
   "source": [
    "(data[data.cluster==0].author.value_counts()/data.author.value_counts()).dropna().sort_values(ascending=False)"
   ]
  },
  {
   "cell_type": "code",
   "execution_count": null,
   "metadata": {
    "collapsed": true
   },
   "outputs": [],
   "source": []
  }
 ],
 "metadata": {
  "kernelspec": {
   "display_name": "Python 3",
   "language": "python",
   "name": "python3"
  },
  "language_info": {
   "codemirror_mode": {
    "name": "ipython",
    "version": 3
   },
   "file_extension": ".py",
   "mimetype": "text/x-python",
   "name": "python",
   "nbconvert_exporter": "python",
   "pygments_lexer": "ipython3",
   "version": "3.6.1"
  },
  "varInspector": {
   "cols": {
    "lenName": 16,
    "lenType": 16,
    "lenVar": 40
   },
   "kernels_config": {
    "python": {
     "delete_cmd_postfix": "",
     "delete_cmd_prefix": "del ",
     "library": "var_list.py",
     "varRefreshCmd": "print(var_dic_list())"
    },
    "r": {
     "delete_cmd_postfix": ") ",
     "delete_cmd_prefix": "rm(",
     "library": "var_list.r",
     "varRefreshCmd": "cat(var_dic_list()) "
    }
   },
   "types_to_exclude": [
    "module",
    "function",
    "builtin_function_or_method",
    "instance",
    "_Feature"
   ],
   "window_display": false
  }
 },
 "nbformat": 4,
 "nbformat_minor": 2
}
