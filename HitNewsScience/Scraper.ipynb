{
 "cells": [
  {
   "cell_type": "code",
   "execution_count": 12,
   "metadata": {
    "ExecuteTime": {
     "end_time": "2017-10-17T14:37:18.647652Z",
     "start_time": "2017-10-17T14:37:18.635937Z"
    }
   },
   "outputs": [],
   "source": [
    "from bs4 import BeautifulSoup\n",
    "from requests import get\n",
    "import pandas as pd, matplotlib.pyplot as plt\n",
    "from tqdm import tqdm\n",
    "%matplotlib inline"
   ]
  },
  {
   "cell_type": "code",
   "execution_count": 13,
   "metadata": {
    "ExecuteTime": {
     "end_time": "2017-09-21T16:58:41.692328Z",
     "start_time": "2017-09-21T16:58:41.685689Z"
    }
   },
   "outputs": [],
   "source": [
    "# HREF SCRAPER\n",
    "def get_urls(n_pages, section):\n",
    "  urls = []\n",
    "  for page in tqdm(range(n_pages+1)):\n",
    "    try:\n",
    "      soup = BeautifulSoup(get(f'https://www.dailytexanonline.com/section/{section}?page={page}').text,'lxml')\n",
    "      for i in soup.findAll('h2', {'class':'story-title'}):\n",
    "        urls.append(i.find('a')['href'])\n",
    "    except AttributeError:\n",
    "      print(page)\n",
    "  return urls"
   ]
  },
  {
   "cell_type": "code",
   "execution_count": 14,
   "metadata": {
    "ExecuteTime": {
     "end_time": "2017-09-21T17:39:40.521615Z",
     "start_time": "2017-09-21T17:39:40.508343Z"
    }
   },
   "outputs": [],
   "source": [
    "# ARTICLE SCRAPER\n",
    "def get_articles(urls):\n",
    "  articles = {}\n",
    "  for h in tqdm(urls):\n",
    "    try:\n",
    "      soup = BeautifulSoup(get('https://www.dailytexanonline.com'+h).text,'lxml')\n",
    "      auth = soup.find('div',{'id':'author-name'})\n",
    "      articles[h] = dict(\n",
    "        text = soup.find('div',{'id':'article-body'}).text,\n",
    "        author = auth.text,\n",
    "        author_link = auth.find('a')['href'],\n",
    "        date = soup.find('time',{'id':'article-published'}).text,\n",
    "        title = soup.find('h1',{'id':'page-title'}).text,\n",
    "      )\n",
    "    except:\n",
    "      print(h)\n",
    "  articles = pd.DataFrame.from_dict(articles, orient='index')\n",
    "  articles.date = pd.to_datetime(articles.date.str.lstrip('Published on '), format='%B %d, %Y at %I:%M %p')\n",
    "  articles.text = articles.text.str.replace('\\\\xa0',' ').str.replace('\\\\n',' ')\n",
    "  articles.author = articles.author.str.lstrip('By ')\n",
    "  articles.title = articles.title.str.strip()\n",
    "  return articles"
   ]
  },
  {
   "cell_type": "code",
   "execution_count": 15,
   "metadata": {
    "ExecuteTime": {
     "end_time": "2017-09-21T18:00:00.795235Z",
     "start_time": "2017-09-21T17:39:40.820370Z"
    },
    "scrolled": true
   },
   "outputs": [
    {
     "name": "stderr",
     "output_type": "stream",
     "text": [
      "100%|██████████| 486/486 [08:00<00:00,  1.01it/s]\n",
      "  3%|▎         | 140/4852 [01:07<37:59,  2.07it/s]"
     ]
    },
    {
     "name": "stdout",
     "output_type": "stream",
     "text": [
      "/2017/05/24/ut-stabbing-suspect-scheduled-for-another-hearing\n"
     ]
    },
    {
     "name": "stderr",
     "output_type": "stream",
     "text": [
      "  3%|▎         | 141/4852 [01:08<38:05,  2.06it/s]"
     ]
    },
    {
     "name": "stdout",
     "output_type": "stream",
     "text": [
      "/2017/05/07/former-university-president-peter-flawn-passes-away\n"
     ]
    },
    {
     "name": "stderr",
     "output_type": "stream",
     "text": [
      " 12%|█▏        | 564/4852 [04:50<36:46,  1.94it/s]"
     ]
    },
    {
     "name": "stdout",
     "output_type": "stream",
     "text": [
      "/2015/09/24/ut-system-to-launch-sexual-assualt-survey-in-october\n"
     ]
    },
    {
     "name": "stderr",
     "output_type": "stream",
     "text": [
      " 44%|████▍     | 2123/4852 [19:15<24:45,  1.84it/s]"
     ]
    },
    {
     "name": "stdout",
     "output_type": "stream",
     "text": [
      "/news/2013/09/26/conflicts-of-interest-arise-in-ut-methane-emissions-study\n"
     ]
    },
    {
     "name": "stderr",
     "output_type": "stream",
     "text": [
      " 45%|████▍     | 2162/4852 [19:41<24:29,  1.83it/s]"
     ]
    },
    {
     "name": "stdout",
     "output_type": "stream",
     "text": [
      "/news/2013/08/28/gone-to-texas-welcomes-class-of-2017\n"
     ]
    },
    {
     "name": "stderr",
     "output_type": "stream",
     "text": [
      " 46%|████▌     | 2209/4852 [20:08<24:05,  1.83it/s]"
     ]
    },
    {
     "name": "stdout",
     "output_type": "stream",
     "text": [
      "/news/2013/06/28/listen-daily-texan-podcast-discusses-fisher-v-texas-decision\n"
     ]
    },
    {
     "name": "stderr",
     "output_type": "stream",
     "text": [
      " 46%|████▌     | 2228/4852 [20:22<23:59,  1.82it/s]"
     ]
    },
    {
     "name": "stdout",
     "output_type": "stream",
     "text": [
      "/news/2013/06/14/listen-the-first-summer-podcast\n"
     ]
    },
    {
     "name": "stderr",
     "output_type": "stream",
     "text": [
      " 47%|████▋     | 2294/4852 [21:03<23:28,  1.82it/s]"
     ]
    },
    {
     "name": "stdout",
     "output_type": "stream",
     "text": [
      "/news/2013/04/26/university-external-foundations-profiles\n"
     ]
    },
    {
     "name": "stderr",
     "output_type": "stream",
     "text": [
      " 48%|████▊     | 2353/4852 [21:37<22:57,  1.81it/s]"
     ]
    },
    {
     "name": "stdout",
     "output_type": "stream",
     "text": [
      "/news/2013/04/15/explosion-at-boston-marathon-stories-and-coverage\n"
     ]
    },
    {
     "name": "stderr",
     "output_type": "stream",
     "text": [
      " 49%|████▊     | 2365/4852 [21:43<22:50,  1.81it/s]"
     ]
    },
    {
     "name": "stdout",
     "output_type": "stream",
     "text": [
      "/news/2013/04/12/here-comes-the-boom\n"
     ]
    },
    {
     "name": "stderr",
     "output_type": "stream",
     "text": [
      " 49%|████▉     | 2391/4852 [21:58<22:37,  1.81it/s]"
     ]
    },
    {
     "name": "stdout",
     "output_type": "stream",
     "text": [
      "/news/2013/04/09/pop-culture-sports-business-and-school-present-cases-of-infidelity-scandal-and\n"
     ]
    },
    {
     "name": "stderr",
     "output_type": "stream",
     "text": [
      " 62%|██████▏   | 3023/4852 [28:01<16:57,  1.80it/s]"
     ]
    },
    {
     "name": "stdout",
     "output_type": "stream",
     "text": [
      "/news/2012/10/01/graduate-career-services-expand-online-with-new-program\n"
     ]
    },
    {
     "name": "stderr",
     "output_type": "stream",
     "text": [
      " 70%|██████▉   | 3375/4852 [31:03<13:35,  1.81it/s]"
     ]
    },
    {
     "name": "stdout",
     "output_type": "stream",
     "text": [
      "/news/2012/04/12/myedu-offers-enhanced-features-for-easier-registration\n"
     ]
    },
    {
     "name": "stderr",
     "output_type": "stream",
     "text": [
      " 72%|███████▏  | 3509/4852 [32:14<12:20,  1.81it/s]"
     ]
    },
    {
     "name": "stdout",
     "output_type": "stream",
     "text": [
      "/news/2012/03/06/ut-entrepreneurship-week-helps%C2%A0students-build-connections-and-receive-networking\n"
     ]
    },
    {
     "name": "stderr",
     "output_type": "stream",
     "text": [
      " 76%|███████▌  | 3664/4852 [33:33<10:52,  1.82it/s]"
     ]
    },
    {
     "name": "stdout",
     "output_type": "stream",
     "text": [
      "/2012/01/30/french-soldiers-attitudes-influence-past-current-culture\n"
     ]
    },
    {
     "name": "stderr",
     "output_type": "stream",
     "text": [
      " 80%|████████  | 3891/4852 [35:29<08:46,  1.83it/s]"
     ]
    },
    {
     "name": "stdout",
     "output_type": "stream",
     "text": [
      "/2011/10/20/natural-gas-conference-features-industry-experts-texas-gas-use-and-outlook\n"
     ]
    },
    {
     "name": "stderr",
     "output_type": "stream",
     "text": [
      " 83%|████████▎ | 4010/4852 [36:30<07:39,  1.83it/s]"
     ]
    },
    {
     "name": "stdout",
     "output_type": "stream",
     "text": [
      "/2011/09/22/education-professor-receives-prestigious-award-for-developing-future-educators\n"
     ]
    },
    {
     "name": "stderr",
     "output_type": "stream",
     "text": [
      " 91%|█████████ | 4400/4852 [39:42<04:04,  1.85it/s]"
     ]
    },
    {
     "name": "stdout",
     "output_type": "stream",
     "text": [
      "/news/2011/03/29/ut-festival-showcases-student-plays\n"
     ]
    },
    {
     "name": "stderr",
     "output_type": "stream",
     "text": [
      " 91%|█████████ | 4411/4852 [39:48<03:58,  1.85it/s]"
     ]
    },
    {
     "name": "stdout",
     "output_type": "stream",
     "text": [
      "/news/2011/03/25/whole-foods-ceo-lectures-about-business-philosophy\n"
     ]
    },
    {
     "name": "stderr",
     "output_type": "stream",
     "text": [
      " 92%|█████████▏| 4460/4852 [40:11<03:31,  1.85it/s]"
     ]
    },
    {
     "name": "stdout",
     "output_type": "stream",
     "text": [
      "/news/2011/03/08/state-senator-traces-success-to-years-spent-on-forty-acres\n"
     ]
    },
    {
     "name": "stderr",
     "output_type": "stream",
     "text": [
      " 92%|█████████▏| 4488/4852 [40:27<03:16,  1.85it/s]"
     ]
    },
    {
     "name": "stdout",
     "output_type": "stream",
     "text": [
      "/2011/03/01/ut-senate-kicks-off-event-to-honor-thank-faculty\n"
     ]
    },
    {
     "name": "stderr",
     "output_type": "stream",
     "text": [
      " 93%|█████████▎| 4495/4852 [40:31<03:13,  1.85it/s]"
     ]
    },
    {
     "name": "stdout",
     "output_type": "stream",
     "text": [
      "/2011/03/01/ut-senate-kicks-off-event-to-honor-thank-faculty\n"
     ]
    },
    {
     "name": "stderr",
     "output_type": "stream",
     "text": [
      " 94%|█████████▍| 4577/4852 [41:12<02:28,  1.85it/s]"
     ]
    },
    {
     "name": "stdout",
     "output_type": "stream",
     "text": [
      "/news/2011/02/11/ransom-center-exhibit-reveals-playwright%C2%92s-creative-mentality\n"
     ]
    },
    {
     "name": "stderr",
     "output_type": "stream",
     "text": [
      " 96%|█████████▌| 4650/4852 [41:47<01:48,  1.85it/s]"
     ]
    },
    {
     "name": "stdout",
     "output_type": "stream",
     "text": [
      "/news/2011/01/26/forum-discusses-reductions-to-liberal-arts-ethnic-centers\n"
     ]
    },
    {
     "name": "stderr",
     "output_type": "stream",
     "text": [
      "100%|█████████▉| 4846/4852 [43:23<00:03,  1.86it/s]"
     ]
    },
    {
     "name": "stdout",
     "output_type": "stream",
     "text": [
      "/news/2010/08/26/ut-expands-sustainability-efforts\n"
     ]
    },
    {
     "name": "stderr",
     "output_type": "stream",
     "text": [
      "100%|██████████| 4852/4852 [43:26<00:00,  1.86it/s]\n"
     ]
    }
   ],
   "source": [
    "section = 'university'\n",
    "get_articles(get_urls(485,section)).to_pickle(f'data/{section}.p')"
   ]
  },
  {
   "cell_type": "code",
   "execution_count": 3,
   "metadata": {
    "ExecuteTime": {
     "end_time": "2017-10-17T14:33:08.826860Z",
     "start_time": "2017-10-17T14:33:08.787963Z"
    }
   },
   "outputs": [],
   "source": [
    "data = pd.read_pickle('data/opinion.p')\n",
    "data.text = data.text.str.strip()\n",
    "data.author = data.author.str.lower()\n",
    "# data = data[data.author.isin(data.author.value_counts().head(20).index)]"
   ]
  },
  {
   "cell_type": "code",
   "execution_count": 5,
   "metadata": {
    "ExecuteTime": {
     "end_time": "2017-10-17T14:34:01.845298Z",
     "start_time": "2017-10-17T14:34:01.820071Z"
    }
   },
   "outputs": [],
   "source": [
    "from nltk.sentiment import SentimentIntensityAnalyzer\n",
    "sid = SentimentIntensityAnalyzer()"
   ]
  },
  {
   "cell_type": "code",
   "execution_count": 8,
   "metadata": {
    "ExecuteTime": {
     "end_time": "2017-10-17T14:35:36.200874Z",
     "start_time": "2017-10-17T14:35:18.916187Z"
    }
   },
   "outputs": [],
   "source": [
    "data['sent'] = data.text.map(lambda i: sid.polarity_scores(i)['compound'])"
   ]
  },
  {
   "cell_type": "code",
   "execution_count": 53,
   "metadata": {
    "ExecuteTime": {
     "end_time": "2017-09-21T06:31:43.806941Z",
     "start_time": "2017-09-21T06:31:41.308114Z"
    }
   },
   "outputs": [],
   "source": [
    "from sklearn.feature_extraction.text import TfidfVectorizer\n",
    "v = TfidfVectorizer(stop_words='english', strip_accents='unicode').fit(data.text)\n",
    "w = v.transform(data.text)"
   ]
  },
  {
   "cell_type": "code",
   "execution_count": 50,
   "metadata": {
    "ExecuteTime": {
     "end_time": "2017-09-21T06:31:23.952029Z",
     "start_time": "2017-09-21T06:31:23.937145Z"
    }
   },
   "outputs": [],
   "source": [
    "from sklearn.naive_bayes import MultinomialNB\n",
    "y = LabelEncoder().fit_transform(data.author.str.lower())\n",
    "m = MultinomialNB(alpha=.1).fit(w, y)"
   ]
  },
  {
   "cell_type": "code",
   "execution_count": 51,
   "metadata": {
    "ExecuteTime": {
     "end_time": "2017-09-21T06:31:24.637423Z",
     "start_time": "2017-09-21T06:31:24.628435Z"
    }
   },
   "outputs": [
    {
     "data": {
      "text/plain": [
       "0.97190293742017875"
      ]
     },
     "execution_count": 51,
     "metadata": {},
     "output_type": "execute_result"
    }
   ],
   "source": [
    "m.score(w, y)"
   ]
  },
  {
   "cell_type": "code",
   "execution_count": 54,
   "metadata": {
    "ExecuteTime": {
     "end_time": "2017-09-21T06:33:44.406203Z",
     "start_time": "2017-09-21T06:32:33.439438Z"
    },
    "scrolled": true
   },
   "outputs": [
    {
     "name": "stdout",
     "output_type": "stream",
     "text": [
      "Initialization complete\n",
      "Initialization complete\n",
      "Initialization complete\n",
      "Initialization complete\n",
      "Initialization complete\n",
      "Initialization complete\n",
      "Initialization complete\n",
      "Initialization complete\n",
      "Iteration  0, inertia 4730.641\n",
      "Iteration  0, inertia 4743.456\n",
      "Iteration  0, inertia 4683.911\n",
      "Iteration  0, inertia 4730.312\n",
      "Iteration  0, inertia 4740.505\n",
      "Iteration  0, inertia 4724.488\n",
      "Iteration  0, inertia 4734.731\n",
      "Iteration  0, inertia 4729.638\n",
      "Iteration  1, inertia 2449.850\n",
      "Iteration  1, inertia 2447.293\n",
      "Iteration  1, inertia 2456.910\n",
      "Iteration  1, inertia 2450.733\n",
      "Iteration  1, inertia 2450.318\n",
      "Iteration  1, inertia 2452.134\n",
      "Iteration  1, inertia 2457.944\n",
      "Iteration  1, inertia 2456.176\n",
      "Iteration  2, inertia 2439.075\n",
      "Iteration  2, inertia 2438.401\n",
      "Iteration  2, inertia 2438.472\n",
      "Iteration  2, inertia 2438.705\n",
      "Iteration  2, inertia 2445.336\n",
      "Iteration  2, inertia 2440.616\n",
      "Iteration  2, inertia 2445.380\n",
      "Iteration  2, inertia 2444.665\n",
      "Iteration  3, inertia 2435.751\n",
      "Iteration  3, inertia 2434.428\n",
      "Iteration  3, inertia 2434.429\n",
      "Iteration  3, inertia 2435.929\n",
      "Iteration  3, inertia 2436.643\n",
      "Iteration  3, inertia 2440.518\n",
      "Iteration  3, inertia 2438.396\n",
      "Iteration  3, inertia 2439.002\n",
      "Iteration  4, inertia 2433.969\n",
      "Iteration  4, inertia 2432.873\n",
      "Iteration  4, inertia 2432.826\n",
      "Iteration  4, inertia 2433.991\n",
      "Iteration  4, inertia 2434.721\n",
      "Iteration  4, inertia 2435.254\n",
      "Iteration  4, inertia 2438.386\n",
      "Iteration  4, inertia 2434.371\n",
      "Iteration  5, inertia 2432.796\n",
      "Iteration  5, inertia 2432.184\n",
      "Iteration  5, inertia 2432.001\n",
      "Iteration  5, inertia 2433.452\n",
      "Iteration  5, inertia 2432.796\n",
      "Iteration  5, inertia 2433.604\n",
      "Iteration  5, inertia 2436.700\n",
      "Iteration  5, inertia 2431.779\n",
      "Iteration  6, inertia 2431.908\n",
      "Iteration  6, inertia 2431.741\n",
      "Iteration  6, inertia 2431.518\n",
      "Iteration  6, inertia 2432.426\n",
      "Iteration  6, inertia 2434.975\n",
      "Iteration  6, inertia 2432.816\n",
      "Iteration  6, inertia 2431.495\n",
      "Iteration  6, inertia 2430.148\n",
      "Iteration  7, inertia 2431.379\n",
      "Iteration  7, inertia 2431.175\n",
      "Iteration  7, inertia 2431.241\n",
      "Iteration  7, inertia 2433.358\n",
      "Iteration  7, inertia 2431.617\n",
      "Iteration  7, inertia 2432.309\n",
      "Iteration  7, inertia 2429.198\n",
      "Iteration  7, inertia 2429.474\n",
      "Iteration  8, inertia 2430.713\n",
      "Iteration  8, inertia 2430.381\n",
      "Iteration  8, inertia 2431.098\n",
      "Iteration  8, inertia 2430.716\n",
      "Iteration  8, inertia 2431.975\n",
      "Iteration  8, inertia 2432.256\n",
      "Iteration  8, inertia 2428.316\n",
      "Iteration  8, inertia 2428.940\n",
      "Iteration  9, inertia 2430.295\n",
      "Iteration  9, inertia 2429.953\n",
      "Iteration  9, inertia 2430.774\n",
      "Iteration  9, inertia 2430.563\n",
      "Iteration  9, inertia 2431.688\n",
      "Iteration  9, inertia 2431.354\n",
      "Iteration  9, inertia 2427.999\n",
      "Iteration  9, inertia 2428.626\n",
      "Iteration 10, inertia 2429.825\n",
      "Iteration 10, inertia 2429.631\n",
      "Iteration 10, inertia 2431.460\n",
      "Iteration 10, inertia 2430.548\n",
      "Iteration 10, inertia 2430.533\n",
      "Iteration 10, inertia 2430.299\n",
      "Iteration 10, inertia 2427.869\n",
      "Iteration 10, inertia 2428.370\n",
      "Iteration 11, inertia 2429.617\n",
      "Iteration 11, inertia 2429.369\n",
      "Iteration 11, inertia 2431.294\n",
      "Iteration 11, inertia 2430.481\n",
      "Iteration 11, inertia 2427.809\n",
      "Iteration 11, inertia 2430.503\n",
      "Iteration 11, inertia 2429.483\n",
      "Iteration 11, inertia 2428.013\n",
      "Iteration 12, inertia 2429.501\n",
      "Iteration 12, inertia 2429.105\n",
      "Iteration 12, inertia 2431.081\n",
      "Iteration 12, inertia 2430.457\n",
      "Iteration 12, inertia 2430.499\n",
      "Converged at iteration 12: center shift 0.000000e+00 within tolerance 2.776103e-09\n",
      "Iteration 12, inertia 2427.786\n",
      "Iteration 12, inertia 2428.959\n",
      "Iteration 12, inertia 2427.686\n",
      "Initialization complete\n",
      "Iteration 13, inertia 2429.380\n",
      "Iteration 13, inertia 2428.478\n",
      "Iteration 13, inertia 2430.453\n",
      "Iteration 13, inertia 2430.833\n",
      "Iteration 13, inertia 2427.759\n",
      "Iteration 13, inertia 2428.502\n",
      "Iteration 13, inertia 2427.410\n",
      "Iteration  0, inertia 4708.014\n",
      "Iteration 14, inertia 2429.349\n",
      "Iteration 14, inertia 2428.108\n",
      "Iteration 14, inertia 2430.449\n",
      "Converged at iteration 14: center shift 0.000000e+00 within tolerance 2.776103e-09\n",
      "Iteration 14, inertia 2430.511\n",
      "Initialization complete\n",
      "Iteration 14, inertia 2427.750\n",
      "Converged at iteration 14: center shift 0.000000e+00 within tolerance 2.776103e-09\n",
      "Iteration 14, inertia 2428.180\n",
      "Iteration  1, inertia 2453.342\n",
      "Iteration 14, inertia 2427.243\n",
      "Iteration 15, inertia 2429.323\n",
      "Iteration 15, inertia 2427.819\n",
      "Iteration 15, inertia 2430.224\n",
      "Iteration  0, inertia 4733.118\n",
      "Iteration 15, inertia 2427.979\n",
      "Iteration  2, inertia 2441.457\n",
      "Iteration 15, inertia 2427.108\n",
      "Iteration 16, inertia 2429.276\n",
      "Iteration 16, inertia 2427.577\n",
      "Iteration 16, inertia 2429.889\n",
      "Iteration 16, inertia 2427.822\n",
      "Iteration  1, inertia 2455.933\n",
      "Iteration  3, inertia 2437.507\n",
      "Iteration 16, inertia 2427.041\n",
      "Iteration 17, inertia 2429.259\n",
      "Iteration 17, inertia 2429.444\n",
      "Iteration  2, inertia 2446.077\n",
      "Iteration 17, inertia 2427.340\n",
      "Iteration 17, inertia 2427.724\n",
      "Iteration  4, inertia 2435.515\n",
      "Iteration 17, inertia 2426.992\n",
      "Iteration 18, inertia 2429.250\n",
      "Converged at iteration 18: center shift 0.000000e+00 within tolerance 2.776103e-09\n",
      "Iteration 18, inertia 2429.314\n",
      "Iteration 18, inertia 2427.052\n",
      "Iteration  5, inertia 2434.329\n",
      "Iteration 18, inertia 2427.678\n",
      "Iteration  3, inertia 2440.634\n",
      "Iteration 18, inertia 2426.975\n",
      "Iteration 19, inertia 2429.308\n",
      "Iteration  6, inertia 2433.594\n",
      "Iteration 19, inertia 2426.836\n",
      "Iteration 19, inertia 2427.644\n",
      "Iteration  4, inertia 2437.832\n",
      "Iteration 19, inertia 2426.961\n",
      "Iteration 20, inertia 2429.301\n",
      "Iteration  5, inertia 2436.034\n",
      "Iteration 20, inertia 2426.792\n",
      "Iteration  7, inertia 2433.012\n",
      "Iteration 20, inertia 2427.637\n",
      "Iteration 20, inertia 2426.955\n",
      "Iteration 21, inertia 2429.292\n",
      "Iteration  6, inertia 2435.553\n",
      "Iteration 21, inertia 2427.634\n",
      "Iteration 21, inertia 2426.785\n",
      "Iteration  8, inertia 2432.268\n",
      "Iteration 21, inertia 2426.950\n",
      "Iteration 22, inertia 2426.780\n",
      "Converged at iteration 22: center shift 0.000000e+00 within tolerance 2.776103e-09\n",
      "Iteration  7, inertia 2435.334\n",
      "Iteration 22, inertia 2429.287\n",
      "Iteration 22, inertia 2427.630\n",
      "Converged at iteration 22: center shift 0.000000e+00 within tolerance 2.776103e-09\n",
      "Iteration  9, inertia 2431.393\n",
      "Iteration 22, inertia 2426.947\n",
      "Converged at iteration 22: center shift 0.000000e+00 within tolerance 2.776103e-09\n",
      "Iteration  8, inertia 2435.223\n",
      "Iteration 23, inertia 2429.283\n",
      "Converged at iteration 23: center shift 0.000000e+00 within tolerance 2.776103e-09\n",
      "Iteration 10, inertia 2430.308\n",
      "Iteration  9, inertia 2435.178\n",
      "Iteration 11, inertia 2428.790\n",
      "Iteration 10, inertia 2435.122\n",
      "Iteration 12, inertia 2427.816\n",
      "Iteration 11, inertia 2435.084\n",
      "Iteration 13, inertia 2427.429\n",
      "Iteration 12, inertia 2435.051\n",
      "Iteration 14, inertia 2427.236\n",
      "Iteration 13, inertia 2435.043\n",
      "Converged at iteration 13: center shift 0.000000e+00 within tolerance 2.776103e-09\n",
      "Iteration 15, inertia 2427.117\n",
      "Iteration 16, inertia 2427.061\n",
      "Iteration 17, inertia 2427.055\n",
      "Iteration 18, inertia 2427.048\n",
      "Iteration 19, inertia 2427.040\n",
      "Iteration 20, inertia 2427.014\n",
      "Iteration 21, inertia 2426.982\n",
      "Iteration 22, inertia 2426.953\n",
      "Iteration 23, inertia 2426.921\n",
      "Iteration 24, inertia 2426.868\n",
      "Iteration 25, inertia 2426.858\n",
      "Converged at iteration 25: center shift 0.000000e+00 within tolerance 2.776103e-09\n"
     ]
    }
   ],
   "source": [
    "from sklearn.cluster import KMeans\n",
    "k = KMeans(n_jobs=-1, verbose=1, random_state=42).fit(w)"
   ]
  },
  {
   "cell_type": "code",
   "execution_count": 58,
   "metadata": {
    "ExecuteTime": {
     "end_time": "2017-09-21T06:36:25.013335Z",
     "start_time": "2017-09-21T06:36:24.999886Z"
    }
   },
   "outputs": [
    {
     "data": {
      "text/plain": [
       "spurning          0.109158\n",
       "harmfully         0.077428\n",
       "nepotistic        0.076215\n",
       "ingloriously      0.066014\n",
       "inefficiency      0.061617\n",
       "constituency      0.052348\n",
       "brashly           0.048730\n",
       "1462              0.046882\n",
       "barrel            0.045194\n",
       "demonstrates      0.041288\n",
       "devoting          0.040403\n",
       "surcharge         0.039286\n",
       "gnarly            0.036088\n",
       "wooing            0.032325\n",
       "erg               0.031470\n",
       "sweetheart        0.030562\n",
       "356               0.030233\n",
       "foodstuffs        0.030133\n",
       "surrendering      0.029976\n",
       "cassell           0.028429\n",
       "modulators        0.027308\n",
       "ny                0.026300\n",
       "crudely           0.024046\n",
       "boss              0.023613\n",
       "120               0.021996\n",
       "discomfort        0.021676\n",
       "courtrooms        0.021377\n",
       "template          0.021295\n",
       "campuswide        0.021219\n",
       "eliciting         0.020514\n",
       "                    ...   \n",
       "devon             0.000000\n",
       "dysfunctional     0.000000\n",
       "sanger            0.000000\n",
       "contextualizes    0.000000\n",
       "circumvented      0.000000\n",
       "borrows           0.000000\n",
       "extol             0.000000\n",
       "astray            0.000000\n",
       "veer              0.000000\n",
       "inconvenienced    0.000000\n",
       "mooted            0.000000\n",
       "overkill          0.000000\n",
       "wiped             0.000000\n",
       "darling           0.000000\n",
       "sowder            0.000000\n",
       "kupec             0.000000\n",
       "recounting        0.000000\n",
       "shahab            0.000000\n",
       "irris             0.000000\n",
       "834               0.000000\n",
       "104               0.000000\n",
       "253               0.000000\n",
       "171               0.000000\n",
       "newsrooms         0.000000\n",
       "nontenured        0.000000\n",
       "humphrey          0.000000\n",
       "humphrinator      0.000000\n",
       "brouhaha          0.000000\n",
       "graphically       0.000000\n",
       "prerequisite      0.000000\n",
       "Name: 0, Length: 34850, dtype: float64"
      ]
     },
     "execution_count": 58,
     "metadata": {},
     "output_type": "execute_result"
    }
   ],
   "source": [
    "cc = pd.DataFrame(data=k.cluster_centers_, columns=v.vocabulary_).T\n",
    "cc[0].sort_values(ascending=False)"
   ]
  },
  {
   "cell_type": "code",
   "execution_count": 60,
   "metadata": {
    "ExecuteTime": {
     "end_time": "2017-09-21T06:38:30.553625Z",
     "start_time": "2017-09-21T06:38:30.541385Z"
    }
   },
   "outputs": [],
   "source": [
    "data['cluster'] = k.predict(w)"
   ]
  },
  {
   "cell_type": "code",
   "execution_count": 70,
   "metadata": {
    "ExecuteTime": {
     "end_time": "2017-09-21T16:54:04.936100Z",
     "start_time": "2017-09-21T16:54:04.851355Z"
    }
   },
   "outputs": [
    {
     "data": {
      "text/plain": [
       "matt offill                           1.000000\n",
       "mitchell hughes ralph                 1.000000\n",
       "ezra siegel                           1.000000\n",
       "evan berkowitz                        1.000000\n",
       "juan carlos delafuente                1.000000\n",
       "ou daily                              1.000000\n",
       "marc nestenius                        1.000000\n",
       "david leffler                         1.000000\n",
       "garrett callahan                      1.000000\n",
       "curry shoff                           1.000000\n",
       "christian corona                      1.000000\n",
       "the oklahoma daily editorial board    1.000000\n",
       "thomas hunt, anne mueller             1.000000\n",
       "chad markey                           1.000000\n",
       "nick castillo                         1.000000\n",
       "travis adams                          0.666667\n",
       "jasmine c. johnson                    0.666667\n",
       "jori epstein                          0.615385\n",
       "daley epstein                         0.500000\n",
       "matthew gil                           0.500000\n",
       "patrick st. pierre                    0.500000\n",
       "zachary adams                         0.333333\n",
       "eric sundin                           0.333333\n",
       "reagan stuart                         0.300000\n",
       "delaney mayfield                      0.285714\n",
       "john daywalt                          0.250000\n",
       "tom palaima                           0.250000\n",
       "davis clark                           0.222222\n",
       "hannah lapin                          0.200000\n",
       "the daily texan editorial board       0.168831\n",
       "diane sun                             0.166667\n",
       "mia ciardi                            0.166667\n",
       "adam humphrey                         0.142857\n",
       "lauren ferguson                       0.142857\n",
       "randon curl                           0.111111\n",
       "dolph briscoe iv                      0.111111\n",
       "nrhari duran                          0.100000\n",
       "stephen mcgarvey                      0.100000\n",
       "edgar walters                         0.090909\n",
       "eric nikolaides                       0.090909\n",
       "emma berdanier                        0.083333\n",
       "erica ndubueze                        0.076923\n",
       "khadija saifullah                     0.073171\n",
       "olivia griffin                        0.066667\n",
       "audrey larcher                        0.064516\n",
       "olivia berkeley                       0.058824\n",
       "chuck matula                          0.058824\n",
       "ratnika batra                         0.058824\n",
       "alexander chase                       0.052632\n",
       "david bordelon                        0.052632\n",
       "laura wright                          0.043478\n",
       "katherine taylor                      0.043478\n",
       "cuillin chastain-howley               0.041667\n",
       "jeremi suri                           0.034483\n",
       "emily vernon                          0.033333\n",
       "noah m. horwitz                       0.019048\n",
       "Name: author, dtype: float64"
      ]
     },
     "execution_count": 70,
     "metadata": {},
     "output_type": "execute_result"
    }
   ],
   "source": [
    "(data[data.cluster==0].author.value_counts()/data.author.value_counts()).dropna().sort_values(ascending=False)"
   ]
  },
  {
   "cell_type": "code",
   "execution_count": null,
   "metadata": {
    "collapsed": true
   },
   "outputs": [],
   "source": []
  }
 ],
 "metadata": {
  "kernelspec": {
   "display_name": "Python 3",
   "language": "python",
   "name": "python3"
  },
  "language_info": {
   "codemirror_mode": {
    "name": "ipython",
    "version": 3
   },
   "file_extension": ".py",
   "mimetype": "text/x-python",
   "name": "python",
   "nbconvert_exporter": "python",
   "pygments_lexer": "ipython3",
   "version": "3.6.1"
  },
  "varInspector": {
   "cols": {
    "lenName": 16,
    "lenType": 16,
    "lenVar": 40
   },
   "kernels_config": {
    "python": {
     "delete_cmd_postfix": "",
     "delete_cmd_prefix": "del ",
     "library": "var_list.py",
     "varRefreshCmd": "print(var_dic_list())"
    },
    "r": {
     "delete_cmd_postfix": ") ",
     "delete_cmd_prefix": "rm(",
     "library": "var_list.r",
     "varRefreshCmd": "cat(var_dic_list()) "
    }
   },
   "types_to_exclude": [
    "module",
    "function",
    "builtin_function_or_method",
    "instance",
    "_Feature"
   ],
   "window_display": false
  }
 },
 "nbformat": 4,
 "nbformat_minor": 2
}
