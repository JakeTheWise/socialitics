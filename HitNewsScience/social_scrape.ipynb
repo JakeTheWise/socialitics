{
 "cells": [
  {
   "cell_type": "code",
   "execution_count": 1,
   "metadata": {},
   "outputs": [],
   "source": [
    "import pandas as pd\n",
    "import requests\n",
    "from tqdm import tqdm\n",
    "\n",
    "def get_social(url):\n",
    "  response = requests.get(\n",
    "    'https://api.sharedcount.com/v1.0/',\n",
    "    params={\n",
    "      'apikey': '2064fd652490ba75c7739c4bba923f449b23c4cb',\n",
    "      'url': 'https://www.dailytexanonline.com'+url,\n",
    "    }\n",
    "  )\n",
    "  return response.json()['Facebook']"
   ]
  },
  {
   "cell_type": "code",
   "execution_count": 11,
   "metadata": {},
   "outputs": [],
   "source": [
    "data = pd.read_pickle('data/opinion.p').drop_duplicates()"
   ]
  },
  {
   "cell_type": "code",
   "execution_count": 12,
   "metadata": {},
   "outputs": [
    {
     "name": "stderr",
     "output_type": "stream",
     "text": [
      "100%|██████████| 3805/3805 [23:29<00:00,  2.70it/s]\n"
     ]
    }
   ],
   "source": [
    "social = {i: get_social(i) for i in tqdm(data.index)}"
   ]
  },
  {
   "cell_type": "code",
   "execution_count": 13,
   "metadata": {},
   "outputs": [],
   "source": [
    "pd.DataFrame(social).T.to_pickle('data/opinion_social.p')"
   ]
  },
  {
   "cell_type": "code",
   "execution_count": 14,
   "metadata": {},
   "outputs": [
    {
     "data": {
      "text/plain": [
       "comment_count            4.349773\n",
       "comment_plugin_count     0.000000\n",
       "commentsbox_count             NaN\n",
       "reaction_count          13.320714\n",
       "share_count              2.512130\n",
       "total_count             20.182618\n",
       "dtype: float64"
      ]
     },
     "execution_count": 14,
     "metadata": {},
     "output_type": "execute_result"
    }
   ],
   "source": [
    "pd.DataFrame(social).T.mean()"
   ]
  },
  {
   "cell_type": "code",
   "execution_count": null,
   "metadata": {},
   "outputs": [],
   "source": []
  }
 ],
 "metadata": {
  "kernelspec": {
   "display_name": "Python 3",
   "language": "python",
   "name": "python3"
  },
  "language_info": {
   "codemirror_mode": {
    "name": "ipython",
    "version": 3
   },
   "file_extension": ".py",
   "mimetype": "text/x-python",
   "name": "python",
   "nbconvert_exporter": "python",
   "pygments_lexer": "ipython3",
   "version": "3.6.1"
  }
 },
 "nbformat": 4,
 "nbformat_minor": 2
}
