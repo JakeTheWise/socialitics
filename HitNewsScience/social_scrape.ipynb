{
 "cells": [
  {
   "cell_type": "code",
   "execution_count": 1,
   "metadata": {},
   "outputs": [],
   "source": [
    "import pandas as pd\n",
    "import requests\n",
    "from tqdm import tqdm\n",
    "\n",
    "def get_social(url):\n",
    "  response = requests.get(\n",
    "    'https://api.sharedcount.com/v1.0/',\n",
    "    params={\n",
    "      'apikey': '2064fd652490ba75c7739c4bba923f449b23c4cb',\n",
    "      'url': 'https://www.dailytexanonline.com'+url,\n",
    "    }\n",
    "  )\n",
    "  return pd.Series(response.json()['Facebook']).rename(url)"
   ]
  },
  {
   "cell_type": "code",
   "execution_count": 2,
   "metadata": {},
   "outputs": [],
   "source": [
    "data = pd.read_pickle('data/university.p').drop_duplicates()"
   ]
  },
  {
   "cell_type": "code",
   "execution_count": 8,
   "metadata": {},
   "outputs": [],
   "source": [
    "from joblib import Parallel, delayed\n",
    "social = Parallel(n_jobs=-1)(delayed(get_social)(i) for i in tqdm(data.index))\n",
    "pd.DataFrame(social).to_pickle('data/university_social.p')"
   ]
  },
  {
   "cell_type": "code",
   "execution_count": 7,
   "metadata": {},
   "outputs": [
    {
     "data": {
      "text/html": [
       "<div>\n",
       "<style scoped>\n",
       "    .dataframe tbody tr th:only-of-type {\n",
       "        vertical-align: middle;\n",
       "    }\n",
       "\n",
       "    .dataframe tbody tr th {\n",
       "        vertical-align: top;\n",
       "    }\n",
       "\n",
       "    .dataframe thead th {\n",
       "        text-align: right;\n",
       "    }\n",
       "</style>\n",
       "<table border=\"1\" class=\"dataframe\">\n",
       "  <thead>\n",
       "    <tr style=\"text-align: right;\">\n",
       "      <th></th>\n",
       "      <th>comment_count</th>\n",
       "      <th>comment_plugin_count</th>\n",
       "      <th>reaction_count</th>\n",
       "      <th>share_count</th>\n",
       "      <th>total_count</th>\n",
       "    </tr>\n",
       "  </thead>\n",
       "  <tbody>\n",
       "    <tr>\n",
       "      <th>/2001/09/11/a-day-to-remember</th>\n",
       "      <td>0</td>\n",
       "      <td>0</td>\n",
       "      <td>0</td>\n",
       "      <td>0</td>\n",
       "      <td>0</td>\n",
       "    </tr>\n",
       "    <tr>\n",
       "      <th>/2009/12/14/tuition-increase-adds-to-available-student-aid</th>\n",
       "      <td>0</td>\n",
       "      <td>0</td>\n",
       "      <td>0</td>\n",
       "      <td>0</td>\n",
       "      <td>0</td>\n",
       "    </tr>\n",
       "    <tr>\n",
       "      <th>/2010/09/28/one-suspected-shooter-dead-at-ut-campus-library-no-one-else-injured</th>\n",
       "      <td>0</td>\n",
       "      <td>0</td>\n",
       "      <td>0</td>\n",
       "      <td>0</td>\n",
       "      <td>0</td>\n",
       "    </tr>\n",
       "    <tr>\n",
       "      <th>/2010/09/29/fbi-investigates-case-shooter%C2%92s-background</th>\n",
       "      <td>0</td>\n",
       "      <td>0</td>\n",
       "      <td>0</td>\n",
       "      <td>0</td>\n",
       "      <td>0</td>\n",
       "    </tr>\n",
       "    <tr>\n",
       "      <th>/2010/09/29/ut-student-kills-self-after-firing-ak-47-on-21st-street</th>\n",
       "      <td>0</td>\n",
       "      <td>0</td>\n",
       "      <td>0</td>\n",
       "      <td>0</td>\n",
       "      <td>0</td>\n",
       "    </tr>\n",
       "  </tbody>\n",
       "</table>\n",
       "</div>"
      ],
      "text/plain": [
       "                                                    comment_count  \\\n",
       "/2001/09/11/a-day-to-remember                                   0   \n",
       "/2009/12/14/tuition-increase-adds-to-available-...              0   \n",
       "/2010/09/28/one-suspected-shooter-dead-at-ut-ca...              0   \n",
       "/2010/09/29/fbi-investigates-case-shooter%C2%92...              0   \n",
       "/2010/09/29/ut-student-kills-self-after-firing-...              0   \n",
       "\n",
       "                                                    comment_plugin_count  \\\n",
       "/2001/09/11/a-day-to-remember                                          0   \n",
       "/2009/12/14/tuition-increase-adds-to-available-...                     0   \n",
       "/2010/09/28/one-suspected-shooter-dead-at-ut-ca...                     0   \n",
       "/2010/09/29/fbi-investigates-case-shooter%C2%92...                     0   \n",
       "/2010/09/29/ut-student-kills-self-after-firing-...                     0   \n",
       "\n",
       "                                                    reaction_count  \\\n",
       "/2001/09/11/a-day-to-remember                                    0   \n",
       "/2009/12/14/tuition-increase-adds-to-available-...               0   \n",
       "/2010/09/28/one-suspected-shooter-dead-at-ut-ca...               0   \n",
       "/2010/09/29/fbi-investigates-case-shooter%C2%92...               0   \n",
       "/2010/09/29/ut-student-kills-self-after-firing-...               0   \n",
       "\n",
       "                                                    share_count  total_count  \n",
       "/2001/09/11/a-day-to-remember                                 0            0  \n",
       "/2009/12/14/tuition-increase-adds-to-available-...            0            0  \n",
       "/2010/09/28/one-suspected-shooter-dead-at-ut-ca...            0            0  \n",
       "/2010/09/29/fbi-investigates-case-shooter%C2%92...            0            0  \n",
       "/2010/09/29/ut-student-kills-self-after-firing-...            0            0  "
      ]
     },
     "execution_count": 7,
     "metadata": {},
     "output_type": "execute_result"
    }
   ],
   "source": [
    "pd.DataFrame(social).head()"
   ]
  },
  {
   "cell_type": "code",
   "execution_count": null,
   "metadata": {},
   "outputs": [],
   "source": []
  }
 ],
 "metadata": {
  "kernelspec": {
   "display_name": "Python 3",
   "language": "python",
   "name": "python3"
  },
  "language_info": {
   "codemirror_mode": {
    "name": "ipython",
    "version": 3
   },
   "file_extension": ".py",
   "mimetype": "text/x-python",
   "name": "python",
   "nbconvert_exporter": "python",
   "pygments_lexer": "ipython3",
   "version": "3.6.1"
  }
 },
 "nbformat": 4,
 "nbformat_minor": 2
}
