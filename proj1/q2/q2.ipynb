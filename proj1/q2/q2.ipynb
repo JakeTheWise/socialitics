{
 "cells": [
  {
   "cell_type": "markdown",
   "metadata": {},
   "source": [
    "# Social Media Analytics Assignment 1\n",
    "### MSBA Spring 2018\n",
    "Ryan Conklin, Reed Dalton, Gihani Dissanayake, Ali Prasla, Jake Schmidt"
   ]
  },
  {
   "cell_type": "markdown",
   "metadata": {},
   "source": [
    "# Part 2"
   ]
  },
  {
   "cell_type": "code",
   "execution_count": 1,
   "metadata": {
    "ExecuteTime": {
     "end_time": "2018-01-30T05:42:57.814622Z",
     "start_time": "2018-01-30T05:42:57.809211Z"
    },
    "collapsed": true
   },
   "outputs": [],
   "source": [
    "#pip install tqdm"
   ]
  },
  {
   "cell_type": "code",
   "execution_count": 2,
   "metadata": {
    "ExecuteTime": {
     "end_time": "2018-01-30T06:35:54.272890Z",
     "start_time": "2018-01-30T06:35:20.344387Z"
    },
    "scrolled": true
   },
   "outputs": [
    {
     "name": "stderr",
     "output_type": "stream",
     "text": [
      "Widget Javascript not detected.  It may not be installed or enabled properly.\n"
     ]
    },
    {
     "data": {
      "application/vnd.jupyter.widget-view+json": {
       "model_id": "947c21bfaa844cda818fbf5949db981c"
      }
     },
     "metadata": {},
     "output_type": "display_data"
    },
    {
     "name": "stdout",
     "output_type": "stream",
     "text": [
      "\n"
     ]
    }
   ],
   "source": [
    "from utils import scrape\n",
    "raw = scrape('tensorflow', 5000) # requires the package called 'tqdm'"
   ]
  },
  {
   "cell_type": "code",
   "execution_count": 3,
   "metadata": {
    "ExecuteTime": {
     "end_time": "2018-01-30T07:40:00.141343Z",
     "start_time": "2018-01-30T07:40:00.086856Z"
    },
    "scrolled": true
   },
   "outputs": [],
   "source": [
    "\"\"\"\n",
    "preprocessing into form:\n",
    "Column 1  Column 2  Column 3 (type of content)\n",
    "@ABC      @ABC      Tweet\n",
    "@XYZ      @ABC      RT\n",
    "\"\"\"\n",
    "import pandas as pd, numpy as np\n",
    "\n",
    "# extract Mentions\n",
    "data = raw.text.str.extractall(r'(?<!RT\\s)@(\\w+)')[0].reset_index(1,drop=True).rename('target').to_frame().join(raw.user_name)\n",
    "data['type'] = 'mention'\n",
    "\n",
    "# add Retweets\n",
    "data = data.append(raw.text.str.extract(r'RT @(\\S+):', expand=False).dropna().rename('target').to_frame().join(raw.user_name))\n",
    "data.type.fillna('rt',inplace=True)\n",
    "\n",
    "# add normal Tweets\n",
    "data = data.append(pd.DataFrame({'target': raw.user_name, 'type': 'tweet', 'user_name': raw.user_name}).loc[lambda i: ~i.index.isin(data.index)]).sort_index()\n",
    "data.type.fillna('tweet',inplace=True)\n",
    "\n",
    "# reorder columns\n",
    "data = data[['user_name','target','type']]\n",
    "# data.to_csv(\"tweets.csv\")"
   ]
  },
  {
   "cell_type": "code",
   "execution_count": 4,
   "metadata": {},
   "outputs": [
    {
     "data": {
      "text/html": [
       "<div>\n",
       "<style>\n",
       "    .dataframe thead tr:only-child th {\n",
       "        text-align: right;\n",
       "    }\n",
       "\n",
       "    .dataframe thead th {\n",
       "        text-align: left;\n",
       "    }\n",
       "\n",
       "    .dataframe tbody tr th {\n",
       "        vertical-align: top;\n",
       "    }\n",
       "</style>\n",
       "<table border=\"1\" class=\"dataframe\">\n",
       "  <thead>\n",
       "    <tr style=\"text-align: right;\">\n",
       "      <th></th>\n",
       "      <th>user_name</th>\n",
       "      <th>target</th>\n",
       "      <th>type</th>\n",
       "    </tr>\n",
       "  </thead>\n",
       "  <tbody>\n",
       "    <tr>\n",
       "      <th>0</th>\n",
       "      <td>ArakilChentoufi</td>\n",
       "      <td>TensorFlow</td>\n",
       "      <td>rt</td>\n",
       "    </tr>\n",
       "    <tr>\n",
       "      <th>1</th>\n",
       "      <td>ArakilChentoufi</td>\n",
       "      <td>TFBestPractices</td>\n",
       "      <td>rt</td>\n",
       "    </tr>\n",
       "    <tr>\n",
       "      <th>2</th>\n",
       "      <td>ArakilChentoufi</td>\n",
       "      <td>kdnuggets</td>\n",
       "      <td>rt</td>\n",
       "    </tr>\n",
       "    <tr>\n",
       "      <th>3</th>\n",
       "      <td>ArakilChentoufi</td>\n",
       "      <td>mxlearn</td>\n",
       "      <td>rt</td>\n",
       "    </tr>\n",
       "    <tr>\n",
       "      <th>4</th>\n",
       "      <td>ArakilChentoufi</td>\n",
       "      <td>java</td>\n",
       "      <td>rt</td>\n",
       "    </tr>\n",
       "    <tr>\n",
       "      <th>5</th>\n",
       "      <td>ArakilChentoufi</td>\n",
       "      <td>granvilleDSC</td>\n",
       "      <td>mention</td>\n",
       "    </tr>\n",
       "    <tr>\n",
       "      <th>5</th>\n",
       "      <td>ArakilChentoufi</td>\n",
       "      <td>DataScienceCtrl</td>\n",
       "      <td>mention</td>\n",
       "    </tr>\n",
       "    <tr>\n",
       "      <th>5</th>\n",
       "      <td>ArakilChentoufi</td>\n",
       "      <td>Ronald_vanLoon</td>\n",
       "      <td>rt</td>\n",
       "    </tr>\n",
       "    <tr>\n",
       "      <th>6</th>\n",
       "      <td>firebitsbr</td>\n",
       "      <td>KirkDBorne</td>\n",
       "      <td>rt</td>\n",
       "    </tr>\n",
       "    <tr>\n",
       "      <th>7</th>\n",
       "      <td>ArakilChentoufi</td>\n",
       "      <td>googlestudents</td>\n",
       "      <td>rt</td>\n",
       "    </tr>\n",
       "  </tbody>\n",
       "</table>\n",
       "</div>"
      ],
      "text/plain": [
       "         user_name           target     type\n",
       "0  ArakilChentoufi       TensorFlow       rt\n",
       "1  ArakilChentoufi  TFBestPractices       rt\n",
       "2  ArakilChentoufi        kdnuggets       rt\n",
       "3  ArakilChentoufi          mxlearn       rt\n",
       "4  ArakilChentoufi             java       rt\n",
       "5  ArakilChentoufi     granvilleDSC  mention\n",
       "5  ArakilChentoufi  DataScienceCtrl  mention\n",
       "5  ArakilChentoufi   Ronald_vanLoon       rt\n",
       "6       firebitsbr       KirkDBorne       rt\n",
       "7  ArakilChentoufi   googlestudents       rt"
      ]
     },
     "execution_count": 4,
     "metadata": {},
     "output_type": "execute_result"
    }
   ],
   "source": [
    "#above is how we scraped, but for consistency, we are reading in saved file \n",
    "data = pd.read_csv(\"tweets.csv\", index_col = 'Unnamed: 0')\n",
    "data[:10]"
   ]
  },
  {
   "cell_type": "code",
   "execution_count": 16,
   "metadata": {
    "ExecuteTime": {
     "end_time": "2018-01-30T07:54:17.769562Z",
     "start_time": "2018-01-30T07:54:17.748311Z"
    },
    "collapsed": true
   },
   "outputs": [],
   "source": [
    "from networkx import from_pandas_dataframe, betweenness_centrality, closeness_centrality, draw\n",
    "g = from_pandas_dataframe(data, source='user_name', target='target')\n",
    "results = pd.DataFrame({'degree': g.degree(),'betweenness': betweenness_centrality(g), 'closeness': closeness_centrality(g)})"
   ]
  },
  {
   "cell_type": "code",
   "execution_count": 17,
   "metadata": {
    "ExecuteTime": {
     "end_time": "2018-01-30T07:50:15.453891Z",
     "start_time": "2018-01-30T07:50:15.445044Z"
    },
    "scrolled": true
   },
   "outputs": [
    {
     "data": {
      "text/html": [
       "<div>\n",
       "<style>\n",
       "    .dataframe thead tr:only-child th {\n",
       "        text-align: right;\n",
       "    }\n",
       "\n",
       "    .dataframe thead th {\n",
       "        text-align: left;\n",
       "    }\n",
       "\n",
       "    .dataframe tbody tr th {\n",
       "        vertical-align: top;\n",
       "    }\n",
       "</style>\n",
       "<table border=\"1\" class=\"dataframe\">\n",
       "  <thead>\n",
       "    <tr style=\"text-align: right;\">\n",
       "      <th></th>\n",
       "      <th>betweenness</th>\n",
       "      <th>closeness</th>\n",
       "      <th>degree</th>\n",
       "    </tr>\n",
       "  </thead>\n",
       "  <tbody>\n",
       "    <tr>\n",
       "      <th>TensorFlow</th>\n",
       "      <td>0.218845</td>\n",
       "      <td>0.239368</td>\n",
       "      <td>467</td>\n",
       "    </tr>\n",
       "    <tr>\n",
       "      <th>arichduvet</th>\n",
       "      <td>0.101855</td>\n",
       "      <td>0.239518</td>\n",
       "      <td>64</td>\n",
       "    </tr>\n",
       "    <tr>\n",
       "      <th>rstudio</th>\n",
       "      <td>0.064071</td>\n",
       "      <td>0.203120</td>\n",
       "      <td>161</td>\n",
       "    </tr>\n",
       "    <tr>\n",
       "      <th>java</th>\n",
       "      <td>0.052273</td>\n",
       "      <td>0.195244</td>\n",
       "      <td>141</td>\n",
       "    </tr>\n",
       "    <tr>\n",
       "      <th>TheNextWeb</th>\n",
       "      <td>0.042372</td>\n",
       "      <td>0.184968</td>\n",
       "      <td>115</td>\n",
       "    </tr>\n",
       "    <tr>\n",
       "      <th>kdnuggets</th>\n",
       "      <td>0.033018</td>\n",
       "      <td>0.204635</td>\n",
       "      <td>68</td>\n",
       "    </tr>\n",
       "    <tr>\n",
       "      <th>ErmiaBivatan</th>\n",
       "      <td>0.029586</td>\n",
       "      <td>0.204581</td>\n",
       "      <td>18</td>\n",
       "    </tr>\n",
       "    <tr>\n",
       "      <th>ArakilChentoufi</th>\n",
       "      <td>0.027734</td>\n",
       "      <td>0.210786</td>\n",
       "      <td>23</td>\n",
       "    </tr>\n",
       "    <tr>\n",
       "      <th>KirkDBorne</th>\n",
       "      <td>0.027071</td>\n",
       "      <td>0.195866</td>\n",
       "      <td>61</td>\n",
       "    </tr>\n",
       "    <tr>\n",
       "      <th>gp_pulipaka</th>\n",
       "      <td>0.026322</td>\n",
       "      <td>0.191734</td>\n",
       "      <td>68</td>\n",
       "    </tr>\n",
       "  </tbody>\n",
       "</table>\n",
       "</div>"
      ],
      "text/plain": [
       "                 betweenness  closeness  degree\n",
       "TensorFlow          0.218845   0.239368     467\n",
       "arichduvet          0.101855   0.239518      64\n",
       "rstudio             0.064071   0.203120     161\n",
       "java                0.052273   0.195244     141\n",
       "TheNextWeb          0.042372   0.184968     115\n",
       "kdnuggets           0.033018   0.204635      68\n",
       "ErmiaBivatan        0.029586   0.204581      18\n",
       "ArakilChentoufi     0.027734   0.210786      23\n",
       "KirkDBorne          0.027071   0.195866      61\n",
       "gp_pulipaka         0.026322   0.191734      68"
      ]
     },
     "execution_count": 17,
     "metadata": {},
     "output_type": "execute_result"
    }
   ],
   "source": [
    "#showing the degree, betweenness, and closeness of each node\n",
    "results.sort_values('betweenness',ascending=False).head(10)"
   ]
  },
  {
   "cell_type": "code",
   "execution_count": 18,
   "metadata": {
    "ExecuteTime": {
     "end_time": "2018-01-30T07:53:33.108627Z",
     "start_time": "2018-01-30T07:53:32.266206Z"
    }
   },
   "outputs": [
    {
     "data": {
      "image/png": "[encoded data removed]",
      "text/plain": [
       "<matplotlib.figure.Figure at 0x1fec8312ac8>"
      ]
     },
     "metadata": {},
     "output_type": "display_data"
    }
   ],
   "source": [
    "import matplotlib.pyplot as plt\n",
    "%matplotlib inline\n",
    "plt.rcParams['figure.figsize'] = (15,5)\n",
    "results.hist(bins=30);"
   ]
  },
  {
   "cell_type": "code",
   "execution_count": 19,
   "metadata": {
    "ExecuteTime": {
     "end_time": "2018-01-30T07:55:02.990118Z",
     "start_time": "2018-01-30T07:54:22.452991Z"
    }
   },
   "outputs": [
    {
     "name": "stderr",
     "output_type": "stream",
     "text": [
      "C:\\Users\\Gihani Dissanayake\\Anaconda2\\envs\\py35\\lib\\site-packages\\networkx\\drawing\\nx_pylab.py:126: MatplotlibDeprecationWarning: pyplot.hold is deprecated.\n",
      "    Future behavior will be consistent with the long-time default:\n",
      "    plot commands add elements without first clearing the\n",
      "    Axes and/or Figure.\n",
      "  b = plt.ishold()\n",
      "C:\\Users\\Gihani Dissanayake\\Anaconda2\\envs\\py35\\lib\\site-packages\\networkx\\drawing\\nx_pylab.py:138: MatplotlibDeprecationWarning: pyplot.hold is deprecated.\n",
      "    Future behavior will be consistent with the long-time default:\n",
      "    plot commands add elements without first clearing the\n",
      "    Axes and/or Figure.\n",
      "  plt.hold(b)\n",
      "C:\\Users\\Gihani Dissanayake\\Anaconda2\\envs\\py35\\lib\\site-packages\\matplotlib\\__init__.py:917: UserWarning: axes.hold is deprecated. Please remove it from your matplotlibrc and/or style files.\n",
      "  warnings.warn(self.msg_depr_set % key)\n",
      "C:\\Users\\Gihani Dissanayake\\Anaconda2\\envs\\py35\\lib\\site-packages\\matplotlib\\rcsetup.py:152: UserWarning: axes.hold is deprecated, will be removed in 3.0\n",
      "  warnings.warn(\"axes.hold is deprecated, will be removed in 3.0\")\n"
     ]
    },
    {
     "data": {
      "image/png": "[encoded data removed]",
      "text/plain": [
       "<matplotlib.figure.Figure at 0x1fec85facf8>"
      ]
     },
     "metadata": {},
     "output_type": "display_data"
    }
   ],
   "source": [
    "draw(g);"
   ]
  },
  {
   "cell_type": "code",
   "execution_count": 9,
   "metadata": {},
   "outputs": [],
   "source": [
    "#1st variable\n",
    "rts = data[data['type'] == 'rt']\n",
    "retweets = pd.DataFrame(rts['target'].value_counts())\n",
    "\n",
    "#2nd variable\n",
    "listed = pd.DataFrame(data['target'].value_counts())\n",
    "\n",
    "#3rd variable\n",
    "ments = data[data['type'] == 'mention']\n",
    "mentions = pd.DataFrame(ments['target'].value_counts())"
   ]
  },
  {
   "cell_type": "code",
   "execution_count": 10,
   "metadata": {},
   "outputs": [
    {
     "data": {
      "text/html": [
       "<div>\n",
       "<style>\n",
       "    .dataframe thead tr:only-child th {\n",
       "        text-align: right;\n",
       "    }\n",
       "\n",
       "    .dataframe thead th {\n",
       "        text-align: left;\n",
       "    }\n",
       "\n",
       "    .dataframe tbody tr th {\n",
       "        vertical-align: top;\n",
       "    }\n",
       "</style>\n",
       "<table border=\"1\" class=\"dataframe\">\n",
       "  <thead>\n",
       "    <tr style=\"text-align: right;\">\n",
       "      <th></th>\n",
       "      <th>betweenness</th>\n",
       "      <th>closeness</th>\n",
       "      <th>degree</th>\n",
       "      <th>std_degree</th>\n",
       "      <th>sum</th>\n",
       "    </tr>\n",
       "  </thead>\n",
       "  <tbody>\n",
       "    <tr>\n",
       "      <th>TensorFlow</th>\n",
       "      <td>0.218845</td>\n",
       "      <td>0.239368</td>\n",
       "      <td>467</td>\n",
       "      <td>0.131884</td>\n",
       "      <td>0.590097</td>\n",
       "    </tr>\n",
       "    <tr>\n",
       "      <th>arichduvet</th>\n",
       "      <td>0.101855</td>\n",
       "      <td>0.239518</td>\n",
       "      <td>64</td>\n",
       "      <td>0.018074</td>\n",
       "      <td>0.359447</td>\n",
       "    </tr>\n",
       "    <tr>\n",
       "      <th>rstudio</th>\n",
       "      <td>0.064071</td>\n",
       "      <td>0.203120</td>\n",
       "      <td>161</td>\n",
       "      <td>0.045467</td>\n",
       "      <td>0.312658</td>\n",
       "    </tr>\n",
       "    <tr>\n",
       "      <th>java</th>\n",
       "      <td>0.052273</td>\n",
       "      <td>0.195244</td>\n",
       "      <td>141</td>\n",
       "      <td>0.039819</td>\n",
       "      <td>0.287336</td>\n",
       "    </tr>\n",
       "    <tr>\n",
       "      <th>TheNextWeb</th>\n",
       "      <td>0.042372</td>\n",
       "      <td>0.184968</td>\n",
       "      <td>115</td>\n",
       "      <td>0.032477</td>\n",
       "      <td>0.259816</td>\n",
       "    </tr>\n",
       "    <tr>\n",
       "      <th>Ronald_vanLoon</th>\n",
       "      <td>0.025208</td>\n",
       "      <td>0.205594</td>\n",
       "      <td>98</td>\n",
       "      <td>0.027676</td>\n",
       "      <td>0.258478</td>\n",
       "    </tr>\n",
       "    <tr>\n",
       "      <th>kdnuggets</th>\n",
       "      <td>0.033018</td>\n",
       "      <td>0.204635</td>\n",
       "      <td>68</td>\n",
       "      <td>0.019204</td>\n",
       "      <td>0.256857</td>\n",
       "    </tr>\n",
       "    <tr>\n",
       "      <th>ArakilChentoufi</th>\n",
       "      <td>0.027734</td>\n",
       "      <td>0.210786</td>\n",
       "      <td>23</td>\n",
       "      <td>0.006495</td>\n",
       "      <td>0.245015</td>\n",
       "    </tr>\n",
       "    <tr>\n",
       "      <th>KirkDBorne</th>\n",
       "      <td>0.027071</td>\n",
       "      <td>0.195866</td>\n",
       "      <td>61</td>\n",
       "      <td>0.017227</td>\n",
       "      <td>0.240164</td>\n",
       "    </tr>\n",
       "    <tr>\n",
       "      <th>ErmiaBivatan</th>\n",
       "      <td>0.029586</td>\n",
       "      <td>0.204581</td>\n",
       "      <td>18</td>\n",
       "      <td>0.005083</td>\n",
       "      <td>0.239250</td>\n",
       "    </tr>\n",
       "  </tbody>\n",
       "</table>\n",
       "</div>"
      ],
      "text/plain": [
       "                 betweenness  closeness  degree  std_degree       sum\n",
       "TensorFlow          0.218845   0.239368     467    0.131884  0.590097\n",
       "arichduvet          0.101855   0.239518      64    0.018074  0.359447\n",
       "rstudio             0.064071   0.203120     161    0.045467  0.312658\n",
       "java                0.052273   0.195244     141    0.039819  0.287336\n",
       "TheNextWeb          0.042372   0.184968     115    0.032477  0.259816\n",
       "Ronald_vanLoon      0.025208   0.205594      98    0.027676  0.258478\n",
       "kdnuggets           0.033018   0.204635      68    0.019204  0.256857\n",
       "ArakilChentoufi     0.027734   0.210786      23    0.006495  0.245015\n",
       "KirkDBorne          0.027071   0.195866      61    0.017227  0.240164\n",
       "ErmiaBivatan        0.029586   0.204581      18    0.005083  0.239250"
      ]
     },
     "execution_count": 10,
     "metadata": {},
     "output_type": "execute_result"
    }
   ],
   "source": [
    "#4th variable as the sum of the standardized degree, closeness, and betweenness\n",
    "n = len(results)\n",
    "results['std_degree'] = (results['degree'])/(n-1)\n",
    "results['sum'] = results['betweenness'] + results['closeness'] + results['std_degree']\n",
    "\n",
    "dbc = pd.DataFrame(results['sum'])\n",
    "\n",
    "results.sort_values('sum',ascending=False).head(10)"
   ]
  },
  {
   "cell_type": "code",
   "execution_count": 20,
   "metadata": {},
   "outputs": [
    {
     "data": {
      "text/plain": [
       "TensorFlow         299.377029\n",
       "rstudio             92.793797\n",
       "java                72.686201\n",
       "TheNextWeb          64.177945\n",
       "kdnuggets           49.027057\n",
       "KirkDBorne          37.922049\n",
       "analyticbridge      34.365855\n",
       "granvilleDSC        33.619355\n",
       "github              33.515544\n",
       "googlecloud         30.614541\n",
       "fchollet            28.609929\n",
       "random_forests      26.961729\n",
       "Reza_Zadeh          26.863950\n",
       "dennybritz          25.157164\n",
       "DataScienceCtrl     25.064173\n",
       "OpenAI              21.754666\n",
       "yufengg             19.763977\n",
       "TDataScience        19.708576\n",
       "bobehayes           18.550383\n",
       "Rbloggers           18.508293\n",
       "mza                 17.961248\n",
       "Google              17.606807\n",
       "DynamicWebPaige     16.059829\n",
       "aronchick            8.999678\n",
       "SamueL_WonG_         8.088721\n",
       "ManningBooks         7.908083\n",
       "hopshadoop           6.954252\n",
       "awscloud             6.294552\n",
       "cfregly              5.794709\n",
       "jessenleon           5.792589\n",
       "AnalyticsVidhya      5.649446\n",
       "indexconf            5.455607\n",
       "alexismp             5.145577\n",
       "margaretmz           4.804961\n",
       "MasculaHealth        4.788903\n",
       "nickbortolotti       4.705735\n",
       "infoworld            3.854655\n",
       "marcelcutts          3.854490\n",
       "iC                   3.792212\n",
       "dustinvtran          3.306938\n",
       "getDanArias          3.154490\n",
       "field_io             3.150508\n",
       "rambossa             3.101028\n",
       "data_nerd            3.038150\n",
       "HubBucket            3.009731\n",
       "WintellectNOW        2.739058\n",
       "samim                2.591327\n",
       "kbeguir              2.400848\n",
       "lmoroney             2.204453\n",
       "edd                  2.003043\n",
       "dtype: float64"
      ]
     },
     "execution_count": 20,
     "metadata": {},
     "output_type": "execute_result"
    }
   ],
   "source": [
    "score = (.15)*retweets['target'] + (.35)*listed['target'] + (.20)*mentions['target'] + (.30)*dbc['sum']\n",
    "score.sort_values(ascending = False).head(50)"
   ]
  },
  {
   "cell_type": "code",
   "execution_count": null,
   "metadata": {
    "collapsed": true
   },
   "outputs": [],
   "source": []
  }
 ],
 "metadata": {
  "kernelspec": {
   "display_name": "Python 3",
   "language": "python",
   "name": "python3"
  },
  "language_info": {
   "codemirror_mode": {
    "name": "ipython",
    "version": 3
   },
   "file_extension": ".py",
   "mimetype": "text/x-python",
   "name": "python",
   "nbconvert_exporter": "python",
   "pygments_lexer": "ipython3",
   "version": "3.5.3"
  }
 },
 "nbformat": 4,
 "nbformat_minor": 2
}
