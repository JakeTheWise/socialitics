{
 "cells": [
  {
   "cell_type": "code",
   "execution_count": 3,
   "metadata": {
    "collapsed": true
   },
   "outputs": [
    {
     "data": {
      "text/html": [
       "<div>\n",
       "<style scoped>\n",
       "    .dataframe tbody tr th:only-of-type {\n",
       "        vertical-align: middle;\n",
       "    }\n",
       "\n",
       "    .dataframe tbody tr th {\n",
       "        vertical-align: top;\n",
       "    }\n",
       "\n",
       "    .dataframe thead th {\n",
       "        text-align: right;\n",
       "    }\n",
       "</style>\n",
       "<table border=\"1\" class=\"dataframe\">\n",
       "  <thead>\n",
       "    <tr style=\"text-align: right;\">\n",
       "      <th></th>\n",
       "      <th></th>\n",
       "      <th>text</th>\n",
       "    </tr>\n",
       "    <tr>\n",
       "      <th>speaker</th>\n",
       "      <th>date</th>\n",
       "      <th></th>\n",
       "    </tr>\n",
       "  </thead>\n",
       "  <tbody>\n",
       "    <tr>\n",
       "      <th rowspan=\"5\" valign=\"top\">George Washington</th>\n",
       "      <th>1789-04-30</th>\n",
       "      <td>Fellow Citizens of the Senate and the House of...</td>\n",
       "    </tr>\n",
       "    <tr>\n",
       "      <th>1789-10-03</th>\n",
       "      <td>Whereas it is the duty of all Nations to ackno...</td>\n",
       "    </tr>\n",
       "    <tr>\n",
       "      <th>1790-01-08</th>\n",
       "      <td>Fellow Citizens of the Senate and House of Rep...</td>\n",
       "    </tr>\n",
       "    <tr>\n",
       "      <th>1790-12-08</th>\n",
       "      <td>Fellow citizens of the Senate and House of Rep...</td>\n",
       "    </tr>\n",
       "    <tr>\n",
       "      <th>1790-12-29</th>\n",
       "      <td>I the President of the United States by my own...</td>\n",
       "    </tr>\n",
       "  </tbody>\n",
       "</table>\n",
       "</div>"
      ],
      "text/plain": [
       "                                                                           text\n",
       "speaker           date                                                         \n",
       "George Washington 1789-04-30  Fellow Citizens of the Senate and the House of...\n",
       "                  1789-10-03  Whereas it is the duty of all Nations to ackno...\n",
       "                  1790-01-08  Fellow Citizens of the Senate and House of Rep...\n",
       "                  1790-12-08  Fellow citizens of the Senate and House of Rep...\n",
       "                  1790-12-29  I the President of the United States by my own..."
      ]
     },
     "execution_count": 3,
     "metadata": {},
     "output_type": "execute_result"
    }
   ],
   "source": [
    "import glob, pandas as pd\n",
    "data = [{\n",
    "  'date': pd.to_datetime(filename.split(' ')[0].lstrip('speeches/').lstrip(\"\\\\\")),\n",
    "  'speaker': filename.rstrip('.txt').split(' ', 1)[1],\n",
    "  'text': open(filename, 'rb').readline().decode('cp1252')\n",
    "} for filename in glob.glob('speeches/*.txt')]\n",
    "speeches = pd.DataFrame(data)\n",
    "speeches = speeches.set_index(['speaker', 'date'])\n",
    "speeches.head()"
   ]
  },
  {
   "cell_type": "markdown",
   "metadata": {},
   "source": [
    "# Task A\n",
    "Choose a reasonable number of topics for this corpus. One way to think about topics is to consider the number of issues that may have been important in the past as well as those that may have come up over the centuries. Provide a brief explanation of how you chose this number."
   ]
  },
  {
   "cell_type": "code",
   "execution_count": 4,
   "metadata": {
    "collapsed": true
   },
   "outputs": [],
   "source": [
    "N_TOPICS = 15"
   ]
  },
  {
   "cell_type": "markdown",
   "metadata": {},
   "source": [
    "# Task B\n",
    "Now perform a topic modeling exercise with LDA. Show the word distributions for each topic as well as topic distributions for each speech. Do you see any shifts over time? Explain."
   ]
  },
  {
   "cell_type": "code",
   "execution_count": 5,
   "metadata": {
    "collapsed": true
   },
   "outputs": [],
   "source": [
    "from sklearn.decomposition import LatentDirichletAllocation as LDA\n",
    "from sklearn.feature_extraction.text import CountVectorizer\n",
    "from sklearn.pipeline import make_pipeline\n",
    "pipe = make_pipeline(\n",
    "  CountVectorizer(stop_words='english'),\n",
    "  LDA(n_components=N_TOPICS, learning_method='batch', n_jobs=-1, max_iter=25, random_state=42)\n",
    ").fit(speeches.text)"
   ]
  },
  {
   "cell_type": "code",
   "execution_count": 6,
   "metadata": {},
   "outputs": [
    {
     "data": {
      "text/html": [
       "<div>\n",
       "<style scoped>\n",
       "    .dataframe tbody tr th:only-of-type {\n",
       "        vertical-align: middle;\n",
       "    }\n",
       "\n",
       "    .dataframe tbody tr th {\n",
       "        vertical-align: top;\n",
       "    }\n",
       "\n",
       "    .dataframe thead th {\n",
       "        text-align: right;\n",
       "    }\n",
       "</style>\n",
       "<table border=\"1\" class=\"dataframe\">\n",
       "  <thead>\n",
       "    <tr style=\"text-align: right;\">\n",
       "      <th></th>\n",
       "      <th>0</th>\n",
       "      <th>1</th>\n",
       "      <th>2</th>\n",
       "      <th>3</th>\n",
       "      <th>4</th>\n",
       "      <th>5</th>\n",
       "      <th>6</th>\n",
       "      <th>7</th>\n",
       "      <th>8</th>\n",
       "      <th>9</th>\n",
       "    </tr>\n",
       "  </thead>\n",
       "  <tbody>\n",
       "    <tr>\n",
       "      <th>0</th>\n",
       "      <td>vietnam</td>\n",
       "      <td>south</td>\n",
       "      <td>president</td>\n",
       "      <td>viet</td>\n",
       "      <td>nam</td>\n",
       "      <td>north</td>\n",
       "      <td>vietnamese</td>\n",
       "      <td>think</td>\n",
       "      <td>people</td>\n",
       "      <td>war</td>\n",
       "    </tr>\n",
       "    <tr>\n",
       "      <th>1</th>\n",
       "      <td>president</td>\n",
       "      <td>mr</td>\n",
       "      <td>think</td>\n",
       "      <td>people</td>\n",
       "      <td>going</td>\n",
       "      <td>don</td>\n",
       "      <td>say</td>\n",
       "      <td>time</td>\n",
       "      <td>want</td>\n",
       "      <td>know</td>\n",
       "    </tr>\n",
       "    <tr>\n",
       "      <th>2</th>\n",
       "      <td>bank</td>\n",
       "      <td>honduras</td>\n",
       "      <td>banks</td>\n",
       "      <td>justices</td>\n",
       "      <td>rescue</td>\n",
       "      <td>circulation</td>\n",
       "      <td>paper</td>\n",
       "      <td>currency</td>\n",
       "      <td>gold</td>\n",
       "      <td>islands</td>\n",
       "    </tr>\n",
       "    <tr>\n",
       "      <th>3</th>\n",
       "      <td>germany</td>\n",
       "      <td>united</td>\n",
       "      <td>conference</td>\n",
       "      <td>german</td>\n",
       "      <td>government</td>\n",
       "      <td>year</td>\n",
       "      <td>great</td>\n",
       "      <td>american</td>\n",
       "      <td>poland</td>\n",
       "      <td>states</td>\n",
       "    </tr>\n",
       "    <tr>\n",
       "      <th>4</th>\n",
       "      <td>world</td>\n",
       "      <td>people</td>\n",
       "      <td>peace</td>\n",
       "      <td>nation</td>\n",
       "      <td>great</td>\n",
       "      <td>men</td>\n",
       "      <td>freedom</td>\n",
       "      <td>america</td>\n",
       "      <td>war</td>\n",
       "      <td>new</td>\n",
       "    </tr>\n",
       "    <tr>\n",
       "      <th>5</th>\n",
       "      <td>beloved</td>\n",
       "      <td>cherokees</td>\n",
       "      <td>press</td>\n",
       "      <td>gun</td>\n",
       "      <td>boats</td>\n",
       "      <td>newspaper</td>\n",
       "      <td>agent</td>\n",
       "      <td>remonstrance</td>\n",
       "      <td>cattle</td>\n",
       "      <td>information</td>\n",
       "    </tr>\n",
       "    <tr>\n",
       "      <th>6</th>\n",
       "      <td>lebanon</td>\n",
       "      <td>israel</td>\n",
       "      <td>country</td>\n",
       "      <td>schedule</td>\n",
       "      <td>army</td>\n",
       "      <td>tariff</td>\n",
       "      <td>middle</td>\n",
       "      <td>men</td>\n",
       "      <td>marines</td>\n",
       "      <td>union</td>\n",
       "    </tr>\n",
       "    <tr>\n",
       "      <th>7</th>\n",
       "      <td>thank</td>\n",
       "      <td>stirred</td>\n",
       "      <td>studied</td>\n",
       "      <td>complicated</td>\n",
       "      <td>inconceivable</td>\n",
       "      <td>interpret</td>\n",
       "      <td>familiar</td>\n",
       "      <td>immutable</td>\n",
       "      <td>haste</td>\n",
       "      <td>aspect</td>\n",
       "    </tr>\n",
       "    <tr>\n",
       "      <th>8</th>\n",
       "      <td>slavery</td>\n",
       "      <td>law</td>\n",
       "      <td>federal</td>\n",
       "      <td>court</td>\n",
       "      <td>union</td>\n",
       "      <td>case</td>\n",
       "      <td>statute</td>\n",
       "      <td>missouri</td>\n",
       "      <td>question</td>\n",
       "      <td>slave</td>\n",
       "    </tr>\n",
       "    <tr>\n",
       "      <th>9</th>\n",
       "      <td>states</td>\n",
       "      <td>government</td>\n",
       "      <td>united</td>\n",
       "      <td>congress</td>\n",
       "      <td>public</td>\n",
       "      <td>country</td>\n",
       "      <td>great</td>\n",
       "      <td>citizens</td>\n",
       "      <td>state</td>\n",
       "      <td>people</td>\n",
       "    </tr>\n",
       "    <tr>\n",
       "      <th>10</th>\n",
       "      <td>world</td>\n",
       "      <td>peace</td>\n",
       "      <td>war</td>\n",
       "      <td>nations</td>\n",
       "      <td>soviet</td>\n",
       "      <td>united</td>\n",
       "      <td>new</td>\n",
       "      <td>states</td>\n",
       "      <td>nuclear</td>\n",
       "      <td>military</td>\n",
       "    </tr>\n",
       "    <tr>\n",
       "      <th>11</th>\n",
       "      <td>united</td>\n",
       "      <td>states</td>\n",
       "      <td>american</td>\n",
       "      <td>war</td>\n",
       "      <td>iraq</td>\n",
       "      <td>enemy</td>\n",
       "      <td>ships</td>\n",
       "      <td>forces</td>\n",
       "      <td>british</td>\n",
       "      <td>america</td>\n",
       "    </tr>\n",
       "    <tr>\n",
       "      <th>12</th>\n",
       "      <td>government</td>\n",
       "      <td>year</td>\n",
       "      <td>congress</td>\n",
       "      <td>silver</td>\n",
       "      <td>bank</td>\n",
       "      <td>act</td>\n",
       "      <td>secretary</td>\n",
       "      <td>gold</td>\n",
       "      <td>fiscal</td>\n",
       "      <td>bonds</td>\n",
       "    </tr>\n",
       "    <tr>\n",
       "      <th>13</th>\n",
       "      <td>people</td>\n",
       "      <td>america</td>\n",
       "      <td>new</td>\n",
       "      <td>year</td>\n",
       "      <td>congress</td>\n",
       "      <td>years</td>\n",
       "      <td>american</td>\n",
       "      <td>work</td>\n",
       "      <td>government</td>\n",
       "      <td>americans</td>\n",
       "    </tr>\n",
       "    <tr>\n",
       "      <th>14</th>\n",
       "      <td>government</td>\n",
       "      <td>congress</td>\n",
       "      <td>business</td>\n",
       "      <td>country</td>\n",
       "      <td>people</td>\n",
       "      <td>national</td>\n",
       "      <td>great</td>\n",
       "      <td>public</td>\n",
       "      <td>law</td>\n",
       "      <td>labor</td>\n",
       "    </tr>\n",
       "  </tbody>\n",
       "</table>\n",
       "</div>"
      ],
      "text/plain": [
       "             0           1           2            3              4  \\\n",
       "0      vietnam       south   president         viet            nam   \n",
       "1    president          mr       think       people          going   \n",
       "2         bank    honduras       banks     justices         rescue   \n",
       "3      germany      united  conference       german     government   \n",
       "4        world      people       peace       nation          great   \n",
       "5      beloved   cherokees       press          gun          boats   \n",
       "6      lebanon      israel     country     schedule           army   \n",
       "7        thank     stirred     studied  complicated  inconceivable   \n",
       "8      slavery         law     federal        court          union   \n",
       "9       states  government      united     congress         public   \n",
       "10       world       peace         war      nations         soviet   \n",
       "11      united      states    american          war           iraq   \n",
       "12  government        year    congress       silver           bank   \n",
       "13      people     america         new         year       congress   \n",
       "14  government    congress    business      country         people   \n",
       "\n",
       "              5           6             7           8            9  \n",
       "0         north  vietnamese         think      people          war  \n",
       "1           don         say          time        want         know  \n",
       "2   circulation       paper      currency        gold      islands  \n",
       "3          year       great      american      poland       states  \n",
       "4           men     freedom       america         war          new  \n",
       "5     newspaper       agent  remonstrance      cattle  information  \n",
       "6        tariff      middle           men     marines        union  \n",
       "7     interpret    familiar     immutable       haste       aspect  \n",
       "8          case     statute      missouri    question        slave  \n",
       "9       country       great      citizens       state       people  \n",
       "10       united         new        states     nuclear     military  \n",
       "11        enemy       ships        forces     british      america  \n",
       "12          act   secretary          gold      fiscal        bonds  \n",
       "13        years    american          work  government    americans  \n",
       "14     national       great        public         law        labor  "
      ]
     },
     "execution_count": 6,
     "metadata": {},
     "output_type": "execute_result"
    }
   ],
   "source": [
    "import numpy as np\n",
    "n_words = 10\n",
    "vocab = pipe.steps[0][1].get_feature_names()\n",
    "topic_words = {}\n",
    "for topic, comp in enumerate(pipe.steps[1][1].components_):   \n",
    "    word_idx = np.argsort(comp)[::-1][:n_words]\n",
    "    # store the words most relevant to the topic\n",
    "    topic_words[topic] = [vocab[i] for i in word_idx]\n",
    "pd.DataFrame(topic_words).T"
   ]
  },
  {
   "cell_type": "code",
   "execution_count": 9,
   "metadata": {},
   "outputs": [
    {
     "data": {
      "text/plain": [
       "<seaborn.matrix.ClusterGrid at 0x260266a0358>"
      ]
     },
     "execution_count": 9,
     "metadata": {},
     "output_type": "execute_result"
    }
   ],
   "source": [
    "import matplotlib.pyplot as plt, seaborn as sns\n",
    "x = pd.DataFrame(pipe.transform(speeches.text), index=speeches.index)\n",
    "sns.clustermap(x, cbar=False)"
   ]
  },
  {
   "cell_type": "markdown",
   "metadata": {},
   "source": [
    "# Task C\n",
    "In terms of topics addressed “heavily” in a speech, which 3 former presidents does President Trump share the highest similarity with? How did you arrive at your conclusion?"
   ]
  },
  {
   "cell_type": "code",
   "execution_count": 42,
   "metadata": {},
   "outputs": [
    {
     "data": {
      "text/plain": [
       "Jimmy Carter             0.674786\n",
       "Richard Milhous Nixon    0.672095\n",
       "Lyndon Baines Johnson    0.578314\n",
       "Name: Donald Trump, dtype: float64"
      ]
     },
     "execution_count": 42,
     "metadata": {},
     "output_type": "execute_result"
    }
   ],
   "source": [
    "from sklearn.metrics.pairwise import cosine_similarity\n",
    "xx = x.reset_index(1, True)\n",
    "mean_topic_per_prez = xx.groupby(xx.index).mean()\n",
    "similarity = pd.DataFrame(cosine_similarity(mean_topic_per_prez),index = mean_topic_per_prez.index)\n",
    "similarity.columns = list(mean_topic_per_prez.index)\n",
    "similarity.loc['Donald Trump'].sort_values(ascending = False)[1:4]"
   ]
  },
  {
   "cell_type": "markdown",
   "metadata": {},
   "source": [
    "President Trump is most similar to Jimmy Carter, Richard Nixon and LBJ"
   ]
  },
  {
   "cell_type": "markdown",
   "metadata": {},
   "source": [
    "# Task D\n",
    "In terms of his own speeches, do you see President Trump shifting the emphasis on certain topics over time? Explain your response."
   ]
  },
  {
   "cell_type": "code",
   "execution_count": 38,
   "metadata": {},
   "outputs": [
    {
     "data": {
      "image/png": "[encoded data removed]",
      "text/plain": [
       "<matplotlib.figure.Figure at 0x2b9638b7128>"
      ]
     },
     "metadata": {},
     "output_type": "display_data"
    }
   ],
   "source": [
    "import numpy as np\n",
    "index = speeches.index,\n",
    "speeches = pd.concat([speeches.reset_index(drop = True),pd.DataFrame(speech_topic)],axis = 1)\n",
    "speeches.index = index\n",
    "import matplotlib.pyplot as plt\n",
    "trump_speeches = speeches.reset_index(inplace = False)\n",
    "trump_speeches = trump_speeches[trump_speeches.speaker == 'Donald Trump'].sort_values('date')\n",
    "np.argmax(trump_speeches[list(range(N_TOPICS))].as_matrix(),axis = 1)"
   ]
  },
  {
   "cell_type": "code",
   "execution_count": 37,
   "metadata": {},
   "outputs": [
    {
     "data": {
      "image/png": "[encoded data removed]",
      "text/plain": [
       "<matplotlib.figure.Figure at 0x2b963704dd8>"
      ]
     },
     "metadata": {},
     "output_type": "display_data"
    }
   ],
   "source": []
  },
  {
   "cell_type": "markdown",
   "metadata": {},
   "source": [
    "# Task E\n",
    "If you do a K-means clustering with the same number of clusters as topics, do you see President Trump’s speeches and those of the 3 former presidents you identified in Task C in the same cluster? What was the basis of clustering (e.g., tf-idf, cosine similarity, etc.). Discuss your findings."
   ]
  },
  {
   "cell_type": "markdown",
   "metadata": {},
   "source": [
    "# Task F\n",
    "Provide a visualization of both clusters (with colors) and cosine scores using MDS. "
   ]
  }
 ],
 "metadata": {
  "kernelspec": {
   "display_name": "Python 3",
   "language": "python",
   "name": "python3"
  },
  "language_info": {
   "codemirror_mode": {
    "name": "ipython",
    "version": 3
   },
   "file_extension": ".py",
   "mimetype": "text/x-python",
   "name": "python",
   "nbconvert_exporter": "python",
   "pygments_lexer": "ipython3",
   "version": "3.6.2"
  }
 },
 "nbformat": 4,
 "nbformat_minor": 2
}
